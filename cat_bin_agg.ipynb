{
  "cells": [
    {
      "cell_type": "code",
      "execution_count": 6,
      "metadata": {
        "colab": {
          "base_uri": "https://localhost:8080/"
        },
        "id": "9rSOhP4O9WEW",
        "outputId": "d1a73f9d-9a8f-4e09-8d7d-987664a45789"
      },
      "outputs": [
        {
          "name": "stdout",
          "output_type": "stream",
          "text": [
            "Looking in indexes: https://pypi.org/simple, https://us-python.pkg.dev/colab-wheels/public/simple/\n",
            "Collecting hopsworks\n",
            "  Using cached hopsworks-3.0.5-py3-none-any.whl\n",
            "Requirement already satisfied: hsfs[python]<3.1.0,>=3.0.0 in /usr/local/lib/python3.10/dist-packages (from hopsworks) (3.0.7)\n",
            "Requirement already satisfied: hsml<3.1.0,>=3.0.0 in /usr/local/lib/python3.10/dist-packages (from hopsworks) (3.0.3)\n",
            "Requirement already satisfied: pyhumps==1.6.1 in /usr/local/lib/python3.10/dist-packages (from hopsworks) (1.6.1)\n",
            "Requirement already satisfied: requests in /usr/local/lib/python3.10/dist-packages (from hopsworks) (2.27.1)\n",
            "Requirement already satisfied: furl in /usr/local/lib/python3.10/dist-packages (from hopsworks) (2.1.3)\n",
            "Requirement already satisfied: boto3 in /usr/local/lib/python3.10/dist-packages (from hopsworks) (1.26.133)\n",
            "Requirement already satisfied: pyjks in /usr/local/lib/python3.10/dist-packages (from hopsworks) (20.0.0)\n",
            "Requirement already satisfied: mock in /usr/local/lib/python3.10/dist-packages (from hopsworks) (5.0.2)\n",
            "Requirement already satisfied: tqdm in /usr/local/lib/python3.10/dist-packages (from hopsworks) (4.65.0)\n",
            "Requirement already satisfied: pandas<2.0.0,>=1.2.0 in /usr/local/lib/python3.10/dist-packages (from hsfs[python]<3.1.0,>=3.0.0->hopsworks) (1.5.3)\n",
            "Requirement already satisfied: numpy in /usr/local/lib/python3.10/dist-packages (from hsfs[python]<3.1.0,>=3.0.0->hopsworks) (1.22.4)\n",
            "Requirement already satisfied: avro==1.10.2 in /usr/local/lib/python3.10/dist-packages (from hsfs[python]<3.1.0,>=3.0.0->hopsworks) (1.10.2)\n",
            "Requirement already satisfied: sqlalchemy in /usr/local/lib/python3.10/dist-packages (from hsfs[python]<3.1.0,>=3.0.0->hopsworks) (2.0.10)\n",
            "Requirement already satisfied: PyMySQL[rsa] in /usr/local/lib/python3.10/dist-packages (from hsfs[python]<3.1.0,>=3.0.0->hopsworks) (1.0.3)\n",
            "Requirement already satisfied: great-expectations==0.14.12 in /usr/local/lib/python3.10/dist-packages (from hsfs[python]<3.1.0,>=3.0.0->hopsworks) (0.14.12)\n",
            "Requirement already satisfied: markupsafe<2.1.0 in /usr/local/lib/python3.10/dist-packages (from hsfs[python]<3.1.0,>=3.0.0->hopsworks) (2.0.1)\n",
            "Requirement already satisfied: pyhopshive[thrift] in /usr/local/lib/python3.10/dist-packages (from hsfs[python]<3.1.0,>=3.0.0->hopsworks) (0.6.4.1.dev0)\n",
            "Requirement already satisfied: pyarrow in /usr/local/lib/python3.10/dist-packages (from hsfs[python]<3.1.0,>=3.0.0->hopsworks) (9.0.0)\n",
            "Requirement already satisfied: confluent-kafka<=1.9.0 in /usr/local/lib/python3.10/dist-packages (from hsfs[python]<3.1.0,>=3.0.0->hopsworks) (1.9.0)\n",
            "Requirement already satisfied: fastavro==1.4.11 in /usr/local/lib/python3.10/dist-packages (from hsfs[python]<3.1.0,>=3.0.0->hopsworks) (1.4.11)\n",
            "Requirement already satisfied: altair<5,>=4.0.0 in /usr/local/lib/python3.10/dist-packages (from great-expectations==0.14.12->hsfs[python]<3.1.0,>=3.0.0->hopsworks) (4.2.2)\n",
            "Requirement already satisfied: Click>=7.1.2 in /usr/local/lib/python3.10/dist-packages (from great-expectations==0.14.12->hsfs[python]<3.1.0,>=3.0.0->hopsworks) (8.1.3)\n",
            "Requirement already satisfied: colorama>=0.4.3 in /usr/local/lib/python3.10/dist-packages (from great-expectations==0.14.12->hsfs[python]<3.1.0,>=3.0.0->hopsworks) (0.4.6)\n",
            "Requirement already satisfied: cryptography>=3.2 in /usr/local/lib/python3.10/dist-packages (from great-expectations==0.14.12->hsfs[python]<3.1.0,>=3.0.0->hopsworks) (40.0.2)\n",
            "Requirement already satisfied: importlib-metadata>=1.7.0 in /usr/local/lib/python3.10/dist-packages (from great-expectations==0.14.12->hsfs[python]<3.1.0,>=3.0.0->hopsworks) (6.6.0)\n",
            "Requirement already satisfied: ipywidgets>=7.5.1 in /usr/local/lib/python3.10/dist-packages (from great-expectations==0.14.12->hsfs[python]<3.1.0,>=3.0.0->hopsworks) (7.7.1)\n",
            "Requirement already satisfied: jinja2<3.1.0,>=2.10 in /usr/local/lib/python3.10/dist-packages (from great-expectations==0.14.12->hsfs[python]<3.1.0,>=3.0.0->hopsworks) (3.0.3)\n",
            "Requirement already satisfied: jsonpatch>=1.22 in /usr/local/lib/python3.10/dist-packages (from great-expectations==0.14.12->hsfs[python]<3.1.0,>=3.0.0->hopsworks) (1.32)\n",
            "Requirement already satisfied: jsonschema>=2.5.1 in /usr/local/lib/python3.10/dist-packages (from great-expectations==0.14.12->hsfs[python]<3.1.0,>=3.0.0->hopsworks) (4.3.3)\n",
            "Requirement already satisfied: mistune<2.0.0,>=0.8.4 in /usr/local/lib/python3.10/dist-packages (from great-expectations==0.14.12->hsfs[python]<3.1.0,>=3.0.0->hopsworks) (0.8.4)\n",
            "Requirement already satisfied: nbformat>=5.0 in /usr/local/lib/python3.10/dist-packages (from great-expectations==0.14.12->hsfs[python]<3.1.0,>=3.0.0->hopsworks) (5.8.0)\n",
            "Requirement already satisfied: packaging in /usr/local/lib/python3.10/dist-packages (from great-expectations==0.14.12->hsfs[python]<3.1.0,>=3.0.0->hopsworks) (23.1)\n",
            "Requirement already satisfied: pyparsing<3,>=2.4 in /usr/local/lib/python3.10/dist-packages (from great-expectations==0.14.12->hsfs[python]<3.1.0,>=3.0.0->hopsworks) (2.4.7)\n",
            "Requirement already satisfied: python-dateutil>=2.8.1 in /usr/local/lib/python3.10/dist-packages (from great-expectations==0.14.12->hsfs[python]<3.1.0,>=3.0.0->hopsworks) (2.8.2)\n",
            "Requirement already satisfied: pytz>=2021.3 in /usr/local/lib/python3.10/dist-packages (from great-expectations==0.14.12->hsfs[python]<3.1.0,>=3.0.0->hopsworks) (2022.7.1)\n",
            "Requirement already satisfied: ruamel.yaml<0.17.18,>=0.16 in /usr/local/lib/python3.10/dist-packages (from great-expectations==0.14.12->hsfs[python]<3.1.0,>=3.0.0->hopsworks) (0.17.17)\n",
            "Requirement already satisfied: scipy>=0.19.0 in /usr/local/lib/python3.10/dist-packages (from great-expectations==0.14.12->hsfs[python]<3.1.0,>=3.0.0->hopsworks) (1.10.1)\n",
            "Requirement already satisfied: termcolor>=1.1.0 in /usr/local/lib/python3.10/dist-packages (from great-expectations==0.14.12->hsfs[python]<3.1.0,>=3.0.0->hopsworks) (2.3.0)\n",
            "Requirement already satisfied: typing-extensions>=3.10.0.0 in /usr/local/lib/python3.10/dist-packages (from great-expectations==0.14.12->hsfs[python]<3.1.0,>=3.0.0->hopsworks) (4.5.0)\n",
            "Requirement already satisfied: tzlocal>=1.2 in /usr/local/lib/python3.10/dist-packages (from great-expectations==0.14.12->hsfs[python]<3.1.0,>=3.0.0->hopsworks) (4.3)\n",
            "Requirement already satisfied: urllib3<1.27,>=1.25.4 in /usr/local/lib/python3.10/dist-packages (from great-expectations==0.14.12->hsfs[python]<3.1.0,>=3.0.0->hopsworks) (1.26.15)\n",
            "Requirement already satisfied: certifi>=2017.4.17 in /usr/local/lib/python3.10/dist-packages (from requests->hopsworks) (2022.12.7)\n",
            "Requirement already satisfied: charset-normalizer~=2.0.0 in /usr/local/lib/python3.10/dist-packages (from requests->hopsworks) (2.0.12)\n",
            "Requirement already satisfied: idna<4,>=2.5 in /usr/local/lib/python3.10/dist-packages (from requests->hopsworks) (3.4)\n",
            "Requirement already satisfied: botocore<1.30.0,>=1.29.133 in /usr/local/lib/python3.10/dist-packages (from boto3->hopsworks) (1.29.133)\n",
            "Requirement already satisfied: jmespath<2.0.0,>=0.7.1 in /usr/local/lib/python3.10/dist-packages (from boto3->hopsworks) (1.0.1)\n",
            "Requirement already satisfied: s3transfer<0.7.0,>=0.6.0 in /usr/local/lib/python3.10/dist-packages (from boto3->hopsworks) (0.6.1)\n",
            "Requirement already satisfied: six>=1.8.0 in /usr/local/lib/python3.10/dist-packages (from furl->hopsworks) (1.16.0)\n",
            "Requirement already satisfied: orderedmultidict>=1.0.1 in /usr/local/lib/python3.10/dist-packages (from furl->hopsworks) (1.0.1)\n",
            "Requirement already satisfied: javaobj-py3 in /usr/local/lib/python3.10/dist-packages (from pyjks->hopsworks) (0.4.3)\n",
            "Requirement already satisfied: pyasn1>=0.3.5 in /usr/local/lib/python3.10/dist-packages (from pyjks->hopsworks) (0.5.0)\n",
            "Requirement already satisfied: pyasn1-modules in /usr/local/lib/python3.10/dist-packages (from pyjks->hopsworks) (0.3.0)\n",
            "Requirement already satisfied: pycryptodomex in /usr/local/lib/python3.10/dist-packages (from pyjks->hopsworks) (3.17)\n",
            "Requirement already satisfied: twofish in /usr/local/lib/python3.10/dist-packages (from pyjks->hopsworks) (0.3.0)\n",
            "Requirement already satisfied: future in /usr/local/lib/python3.10/dist-packages (from pyhopshive[thrift]->hsfs[python]<3.1.0,>=3.0.0->hopsworks) (0.18.3)\n",
            "Requirement already satisfied: thrift>=0.10.0 in /usr/local/lib/python3.10/dist-packages (from pyhopshive[thrift]->hsfs[python]<3.1.0,>=3.0.0->hopsworks) (0.16.0)\n",
            "Requirement already satisfied: greenlet!=0.4.17 in /usr/local/lib/python3.10/dist-packages (from sqlalchemy->hsfs[python]<3.1.0,>=3.0.0->hopsworks) (2.0.2)\n",
            "Requirement already satisfied: entrypoints in /usr/local/lib/python3.10/dist-packages (from altair<5,>=4.0.0->great-expectations==0.14.12->hsfs[python]<3.1.0,>=3.0.0->hopsworks) (0.4)\n",
            "Requirement already satisfied: toolz in /usr/local/lib/python3.10/dist-packages (from altair<5,>=4.0.0->great-expectations==0.14.12->hsfs[python]<3.1.0,>=3.0.0->hopsworks) (0.12.0)\n",
            "Requirement already satisfied: cffi>=1.12 in /usr/local/lib/python3.10/dist-packages (from cryptography>=3.2->great-expectations==0.14.12->hsfs[python]<3.1.0,>=3.0.0->hopsworks) (1.15.1)\n",
            "Requirement already satisfied: zipp>=0.5 in /usr/local/lib/python3.10/dist-packages (from importlib-metadata>=1.7.0->great-expectations==0.14.12->hsfs[python]<3.1.0,>=3.0.0->hopsworks) (3.15.0)\n",
            "Requirement already satisfied: ipykernel>=4.5.1 in /usr/local/lib/python3.10/dist-packages (from ipywidgets>=7.5.1->great-expectations==0.14.12->hsfs[python]<3.1.0,>=3.0.0->hopsworks) (5.5.6)\n",
            "Requirement already satisfied: ipython-genutils~=0.2.0 in /usr/local/lib/python3.10/dist-packages (from ipywidgets>=7.5.1->great-expectations==0.14.12->hsfs[python]<3.1.0,>=3.0.0->hopsworks) (0.2.0)\n",
            "Requirement already satisfied: traitlets>=4.3.1 in /usr/local/lib/python3.10/dist-packages (from ipywidgets>=7.5.1->great-expectations==0.14.12->hsfs[python]<3.1.0,>=3.0.0->hopsworks) (5.7.1)\n",
            "Requirement already satisfied: widgetsnbextension~=3.6.0 in /usr/local/lib/python3.10/dist-packages (from ipywidgets>=7.5.1->great-expectations==0.14.12->hsfs[python]<3.1.0,>=3.0.0->hopsworks) (3.6.4)\n",
            "Requirement already satisfied: ipython>=4.0.0 in /usr/local/lib/python3.10/dist-packages (from ipywidgets>=7.5.1->great-expectations==0.14.12->hsfs[python]<3.1.0,>=3.0.0->hopsworks) (7.34.0)\n",
            "Requirement already satisfied: jupyterlab-widgets>=1.0.0 in /usr/local/lib/python3.10/dist-packages (from ipywidgets>=7.5.1->great-expectations==0.14.12->hsfs[python]<3.1.0,>=3.0.0->hopsworks) (3.0.7)\n",
            "Requirement already satisfied: jsonpointer>=1.9 in /usr/local/lib/python3.10/dist-packages (from jsonpatch>=1.22->great-expectations==0.14.12->hsfs[python]<3.1.0,>=3.0.0->hopsworks) (2.3)\n",
            "Requirement already satisfied: attrs>=17.4.0 in /usr/local/lib/python3.10/dist-packages (from jsonschema>=2.5.1->great-expectations==0.14.12->hsfs[python]<3.1.0,>=3.0.0->hopsworks) (23.1.0)\n",
            "Requirement already satisfied: pyrsistent!=0.17.0,!=0.17.1,!=0.17.2,>=0.14.0 in /usr/local/lib/python3.10/dist-packages (from jsonschema>=2.5.1->great-expectations==0.14.12->hsfs[python]<3.1.0,>=3.0.0->hopsworks) (0.19.3)\n",
            "Requirement already satisfied: fastjsonschema in /usr/local/lib/python3.10/dist-packages (from nbformat>=5.0->great-expectations==0.14.12->hsfs[python]<3.1.0,>=3.0.0->hopsworks) (2.16.3)\n",
            "Requirement already satisfied: jupyter-core in /usr/local/lib/python3.10/dist-packages (from nbformat>=5.0->great-expectations==0.14.12->hsfs[python]<3.1.0,>=3.0.0->hopsworks) (5.3.0)\n",
            "Requirement already satisfied: pytz-deprecation-shim in /usr/local/lib/python3.10/dist-packages (from tzlocal>=1.2->great-expectations==0.14.12->hsfs[python]<3.1.0,>=3.0.0->hopsworks) (0.1.0.post0)\n",
            "Requirement already satisfied: pycparser in /usr/local/lib/python3.10/dist-packages (from cffi>=1.12->cryptography>=3.2->great-expectations==0.14.12->hsfs[python]<3.1.0,>=3.0.0->hopsworks) (2.21)\n",
            "Requirement already satisfied: jupyter-client in /usr/local/lib/python3.10/dist-packages (from ipykernel>=4.5.1->ipywidgets>=7.5.1->great-expectations==0.14.12->hsfs[python]<3.1.0,>=3.0.0->hopsworks) (6.1.12)\n",
            "Requirement already satisfied: tornado>=4.2 in /usr/local/lib/python3.10/dist-packages (from ipykernel>=4.5.1->ipywidgets>=7.5.1->great-expectations==0.14.12->hsfs[python]<3.1.0,>=3.0.0->hopsworks) (6.3.1)\n",
            "Requirement already satisfied: setuptools>=18.5 in /usr/local/lib/python3.10/dist-packages (from ipython>=4.0.0->ipywidgets>=7.5.1->great-expectations==0.14.12->hsfs[python]<3.1.0,>=3.0.0->hopsworks) (67.7.2)\n",
            "Requirement already satisfied: jedi>=0.16 in /usr/local/lib/python3.10/dist-packages (from ipython>=4.0.0->ipywidgets>=7.5.1->great-expectations==0.14.12->hsfs[python]<3.1.0,>=3.0.0->hopsworks) (0.18.2)\n",
            "Requirement already satisfied: decorator in /usr/local/lib/python3.10/dist-packages (from ipython>=4.0.0->ipywidgets>=7.5.1->great-expectations==0.14.12->hsfs[python]<3.1.0,>=3.0.0->hopsworks) (4.4.2)\n",
            "Requirement already satisfied: pickleshare in /usr/local/lib/python3.10/dist-packages (from ipython>=4.0.0->ipywidgets>=7.5.1->great-expectations==0.14.12->hsfs[python]<3.1.0,>=3.0.0->hopsworks) (0.7.5)\n",
            "Requirement already satisfied: prompt-toolkit!=3.0.0,!=3.0.1,<3.1.0,>=2.0.0 in /usr/local/lib/python3.10/dist-packages (from ipython>=4.0.0->ipywidgets>=7.5.1->great-expectations==0.14.12->hsfs[python]<3.1.0,>=3.0.0->hopsworks) (3.0.38)\n",
            "Requirement already satisfied: pygments in /usr/local/lib/python3.10/dist-packages (from ipython>=4.0.0->ipywidgets>=7.5.1->great-expectations==0.14.12->hsfs[python]<3.1.0,>=3.0.0->hopsworks) (2.14.0)\n",
            "Requirement already satisfied: backcall in /usr/local/lib/python3.10/dist-packages (from ipython>=4.0.0->ipywidgets>=7.5.1->great-expectations==0.14.12->hsfs[python]<3.1.0,>=3.0.0->hopsworks) (0.2.0)\n",
            "Requirement already satisfied: matplotlib-inline in /usr/local/lib/python3.10/dist-packages (from ipython>=4.0.0->ipywidgets>=7.5.1->great-expectations==0.14.12->hsfs[python]<3.1.0,>=3.0.0->hopsworks) (0.1.6)\n",
            "Requirement already satisfied: pexpect>4.3 in /usr/local/lib/python3.10/dist-packages (from ipython>=4.0.0->ipywidgets>=7.5.1->great-expectations==0.14.12->hsfs[python]<3.1.0,>=3.0.0->hopsworks) (4.8.0)\n",
            "Requirement already satisfied: notebook>=4.4.1 in /usr/local/lib/python3.10/dist-packages (from widgetsnbextension~=3.6.0->ipywidgets>=7.5.1->great-expectations==0.14.12->hsfs[python]<3.1.0,>=3.0.0->hopsworks) (6.4.8)\n",
            "Requirement already satisfied: platformdirs>=2.5 in /usr/local/lib/python3.10/dist-packages (from jupyter-core->nbformat>=5.0->great-expectations==0.14.12->hsfs[python]<3.1.0,>=3.0.0->hopsworks) (3.3.0)\n",
            "Requirement already satisfied: tzdata in /usr/local/lib/python3.10/dist-packages (from pytz-deprecation-shim->tzlocal>=1.2->great-expectations==0.14.12->hsfs[python]<3.1.0,>=3.0.0->hopsworks) (2023.3)\n",
            "Requirement already satisfied: parso<0.9.0,>=0.8.0 in /usr/local/lib/python3.10/dist-packages (from jedi>=0.16->ipython>=4.0.0->ipywidgets>=7.5.1->great-expectations==0.14.12->hsfs[python]<3.1.0,>=3.0.0->hopsworks) (0.8.3)\n",
            "Requirement already satisfied: pyzmq>=17 in /usr/local/lib/python3.10/dist-packages (from notebook>=4.4.1->widgetsnbextension~=3.6.0->ipywidgets>=7.5.1->great-expectations==0.14.12->hsfs[python]<3.1.0,>=3.0.0->hopsworks) (23.2.1)\n",
            "Requirement already satisfied: argon2-cffi in /usr/local/lib/python3.10/dist-packages (from notebook>=4.4.1->widgetsnbextension~=3.6.0->ipywidgets>=7.5.1->great-expectations==0.14.12->hsfs[python]<3.1.0,>=3.0.0->hopsworks) (21.3.0)\n",
            "Requirement already satisfied: nbconvert in /usr/local/lib/python3.10/dist-packages (from notebook>=4.4.1->widgetsnbextension~=3.6.0->ipywidgets>=7.5.1->great-expectations==0.14.12->hsfs[python]<3.1.0,>=3.0.0->hopsworks) (6.5.4)\n",
            "Requirement already satisfied: nest-asyncio>=1.5 in /usr/local/lib/python3.10/dist-packages (from notebook>=4.4.1->widgetsnbextension~=3.6.0->ipywidgets>=7.5.1->great-expectations==0.14.12->hsfs[python]<3.1.0,>=3.0.0->hopsworks) (1.5.6)\n",
            "Requirement already satisfied: Send2Trash>=1.8.0 in /usr/local/lib/python3.10/dist-packages (from notebook>=4.4.1->widgetsnbextension~=3.6.0->ipywidgets>=7.5.1->great-expectations==0.14.12->hsfs[python]<3.1.0,>=3.0.0->hopsworks) (1.8.0)\n",
            "Requirement already satisfied: terminado>=0.8.3 in /usr/local/lib/python3.10/dist-packages (from notebook>=4.4.1->widgetsnbextension~=3.6.0->ipywidgets>=7.5.1->great-expectations==0.14.12->hsfs[python]<3.1.0,>=3.0.0->hopsworks) (0.17.1)\n",
            "Requirement already satisfied: prometheus-client in /usr/local/lib/python3.10/dist-packages (from notebook>=4.4.1->widgetsnbextension~=3.6.0->ipywidgets>=7.5.1->great-expectations==0.14.12->hsfs[python]<3.1.0,>=3.0.0->hopsworks) (0.16.0)\n",
            "Requirement already satisfied: ptyprocess>=0.5 in /usr/local/lib/python3.10/dist-packages (from pexpect>4.3->ipython>=4.0.0->ipywidgets>=7.5.1->great-expectations==0.14.12->hsfs[python]<3.1.0,>=3.0.0->hopsworks) (0.7.0)\n",
            "Requirement already satisfied: wcwidth in /usr/local/lib/python3.10/dist-packages (from prompt-toolkit!=3.0.0,!=3.0.1,<3.1.0,>=2.0.0->ipython>=4.0.0->ipywidgets>=7.5.1->great-expectations==0.14.12->hsfs[python]<3.1.0,>=3.0.0->hopsworks) (0.2.6)\n",
            "Requirement already satisfied: argon2-cffi-bindings in /usr/local/lib/python3.10/dist-packages (from argon2-cffi->notebook>=4.4.1->widgetsnbextension~=3.6.0->ipywidgets>=7.5.1->great-expectations==0.14.12->hsfs[python]<3.1.0,>=3.0.0->hopsworks) (21.2.0)\n",
            "Requirement already satisfied: lxml in /usr/local/lib/python3.10/dist-packages (from nbconvert->notebook>=4.4.1->widgetsnbextension~=3.6.0->ipywidgets>=7.5.1->great-expectations==0.14.12->hsfs[python]<3.1.0,>=3.0.0->hopsworks) (4.9.2)\n",
            "Requirement already satisfied: beautifulsoup4 in /usr/local/lib/python3.10/dist-packages (from nbconvert->notebook>=4.4.1->widgetsnbextension~=3.6.0->ipywidgets>=7.5.1->great-expectations==0.14.12->hsfs[python]<3.1.0,>=3.0.0->hopsworks) (4.11.2)\n",
            "Requirement already satisfied: bleach in /usr/local/lib/python3.10/dist-packages (from nbconvert->notebook>=4.4.1->widgetsnbextension~=3.6.0->ipywidgets>=7.5.1->great-expectations==0.14.12->hsfs[python]<3.1.0,>=3.0.0->hopsworks) (6.0.0)\n",
            "Requirement already satisfied: defusedxml in /usr/local/lib/python3.10/dist-packages (from nbconvert->notebook>=4.4.1->widgetsnbextension~=3.6.0->ipywidgets>=7.5.1->great-expectations==0.14.12->hsfs[python]<3.1.0,>=3.0.0->hopsworks) (0.7.1)\n",
            "Requirement already satisfied: jupyterlab-pygments in /usr/local/lib/python3.10/dist-packages (from nbconvert->notebook>=4.4.1->widgetsnbextension~=3.6.0->ipywidgets>=7.5.1->great-expectations==0.14.12->hsfs[python]<3.1.0,>=3.0.0->hopsworks) (0.2.2)\n",
            "Requirement already satisfied: nbclient>=0.5.0 in /usr/local/lib/python3.10/dist-packages (from nbconvert->notebook>=4.4.1->widgetsnbextension~=3.6.0->ipywidgets>=7.5.1->great-expectations==0.14.12->hsfs[python]<3.1.0,>=3.0.0->hopsworks) (0.7.4)\n",
            "Requirement already satisfied: pandocfilters>=1.4.1 in /usr/local/lib/python3.10/dist-packages (from nbconvert->notebook>=4.4.1->widgetsnbextension~=3.6.0->ipywidgets>=7.5.1->great-expectations==0.14.12->hsfs[python]<3.1.0,>=3.0.0->hopsworks) (1.5.0)\n",
            "Requirement already satisfied: tinycss2 in /usr/local/lib/python3.10/dist-packages (from nbconvert->notebook>=4.4.1->widgetsnbextension~=3.6.0->ipywidgets>=7.5.1->great-expectations==0.14.12->hsfs[python]<3.1.0,>=3.0.0->hopsworks) (1.2.1)\n",
            "Requirement already satisfied: soupsieve>1.2 in /usr/local/lib/python3.10/dist-packages (from beautifulsoup4->nbconvert->notebook>=4.4.1->widgetsnbextension~=3.6.0->ipywidgets>=7.5.1->great-expectations==0.14.12->hsfs[python]<3.1.0,>=3.0.0->hopsworks) (2.4.1)\n",
            "Requirement already satisfied: webencodings in /usr/local/lib/python3.10/dist-packages (from bleach->nbconvert->notebook>=4.4.1->widgetsnbextension~=3.6.0->ipywidgets>=7.5.1->great-expectations==0.14.12->hsfs[python]<3.1.0,>=3.0.0->hopsworks) (0.5.1)\n",
            "Installing collected packages: hopsworks\n",
            "Successfully installed hopsworks-3.0.5\n"
          ]
        }
      ],
      "source": [
        "!pip install hopsworks"
      ]
    },
    {
      "cell_type": "code",
      "execution_count": 8,
      "metadata": {
        "id": "U8ydej7D9Rnc"
      },
      "outputs": [],
      "source": [
        "import pandas as pd\n",
        "import numpy as np\n",
        "import hopsworks"
      ]
    },
    {
      "cell_type": "code",
      "execution_count": 9,
      "metadata": {
        "colab": {
          "base_uri": "https://localhost:8080/"
        },
        "id": "Ns_o7CpYIOqX",
        "outputId": "d930acd8-1761-4aae-b38d-93e30d533c40"
      },
      "outputs": [
        {
          "name": "stdout",
          "output_type": "stream",
          "text": [
            "Connected. Call `.close()` to terminate connection gracefully.\n",
            "\n",
            "Logged in to project, explore it here https://c.app.hopsworks.ai:443/p/44182\n",
            "Connected. Call `.close()` to terminate connection gracefully.\n"
          ]
        }
      ],
      "source": [
        "project = hopsworks.login(api_key_value='<enter_your_hopsworks_api_key>')\n",
        "fs = project.get_feature_store()"
      ]
    },
    {
      "attachments": {},
      "cell_type": "markdown",
      "metadata": {},
      "source": [
        "The data used for this project were obtained from the North Carolina State Board of Elections (NCSBE). Both voter registration records and voter history records are made available and updated weekly. The data is included along with the code"
      ]
    },
    {
      "cell_type": "code",
      "execution_count": 24,
      "metadata": {
        "colab": {
          "base_uri": "https://localhost:8080/"
        },
        "id": "SMnKOTpTISPY",
        "outputId": "47ea7ce6-8570-4d1e-b596-ebdd7e9ad7f5"
      },
      "outputs": [
        {
          "name": "stderr",
          "output_type": "stream",
          "text": [
            "DtypeWarning: Columns (3) have mixed types. Specify dtype option on import or set low_memory=False.\n"
          ]
        },
        {
          "data": {
            "text/plain": [
              "Index(['state_region', 'political_party', 'gender_code', 'ethnic_code',\n",
              "       'drivers_lic', 'mean_age', 'median_age', 'min_age', 'max_age',\n",
              "       'voter_vount', 'p_key'],\n",
              "      dtype='object')"
            ]
          },
          "execution_count": 24,
          "metadata": {},
          "output_type": "execute_result"
        }
      ],
      "source": [
        "# This function takes in the state code as parameter and returns the region\n",
        "# to which it belongs.\n",
        "def states_auxiliary_function(state):\n",
        "\n",
        "    # check if U.S. territory or out of country\n",
        "    if state in ['AS', 'GU', 'MP', 'PR', 'VI', 'OC']:\n",
        "        return 'Others'\n",
        "\n",
        "    # the rest of the categories are based on U.S. Census Bureau regions\n",
        "    elif state in ['CT', 'ME', 'MA', 'NH', 'RI', 'VT',\n",
        "                   'NJ', 'NY', 'PA']:\n",
        "        return 'Northeast'\n",
        "\n",
        "    elif state in ['DE', 'FL', 'GA', 'MD', 'NC', 'SC', 'VA',\n",
        "                   'DC', 'WV', 'AL', 'KY', 'MS', 'TN', 'AR',\n",
        "                   'LA', 'OK', 'TX']:\n",
        "        return 'South'\n",
        "\n",
        "    elif state in ['IL', 'IN', 'MI', 'OH', 'WI',\n",
        "                   'IA', 'KS', 'MN', 'MO', 'NE', 'ND', 'SD']:\n",
        "        return 'Midwest'\n",
        "\n",
        "    elif state in ['AZ', 'CO', 'ID', 'MT', 'NV', 'NM', 'UT',\n",
        "                   'WY', 'AK', 'CA', 'HI', 'OR', 'WA']:\n",
        "        return 'West'\n",
        "\n",
        "    else:\n",
        "        return 'Missing'\n",
        "\n",
        "# This function takes in party_name as parameter and performs binning to\n",
        "# bundle the least represented parties\n",
        "def parties_auxiliary_function(party_name):\n",
        "    if party_name == \"REP\":\n",
        "        return \"REP\"\n",
        "    elif party_name == \"DEM\":\n",
        "        return \"DEM\"\n",
        "    else:\n",
        "        return \"Others\"\n",
        "\n",
        "class CategoricalVariableHandling:\n",
        "    def __init__(self) -> None:\n",
        "        self.df = pd.read_csv(\"UC_gen_2020\")\n",
        "\n",
        "    def perform_binning_for_states(self):\n",
        "        self.df['State Region'] = self.df['birth_state'].apply(\n",
        "            states_auxiliary_function)\n",
        "    \n",
        "    def perform_binning_for_parties(self):\n",
        "        self.df['Political Party'] = self.df['party_cd'].apply(\n",
        "            parties_auxiliary_function)\n",
        "    \n",
        "    # The age is calculated by subtracting 2020 from the birth_year\n",
        "    # 2020 was the election year\n",
        "    def calculate_age(self):\n",
        "        self.df['Age'] = 2020 - self.df['birth_year']\n",
        "    \n",
        "    def select_final_dataframe(self):\n",
        "        self.df = self.df[[\n",
        "            'State Region', 'Political Party', 'Age', 'drivers_lic', \n",
        "            'ethnic_code', 'gender_code']]\n",
        "\n",
        "\n",
        "class PerformAggregation(CategoricalVariableHandling):\n",
        "    def __init__(self) -> None:\n",
        "        super().__init__()\n",
        "        self.perform_binning_for_states()\n",
        "        self.perform_binning_for_parties()\n",
        "        self.calculate_age()\n",
        "        self.select_final_dataframe()\n",
        "    \n",
        "    # Performing aggregation (mean, median, min, max and count) over the age column\n",
        "    def get_aggregated_values(self):\n",
        "        self.df = self.df.groupby([\n",
        "            'State Region', 'Political Party', 'gender_code',\n",
        "            'ethnic_code', 'drivers_lic']).agg(\n",
        "            Mean_Age=('Age', np.mean),\n",
        "            Median_Age = ('Age',np.median),\n",
        "            Min_Age = ('Age',np.min),\n",
        "            Max_Age = ('Age',np.max),\n",
        "            Voter_Count = ('Age',np.size)\n",
        "            ).reset_index()\n",
        "    \n",
        "    # Getting the final dataframe to be pushed to the feature store\n",
        "    def get_final_dataframe(self):\n",
        "        self.get_aggregated_values()\n",
        "        self.df['p_key'] = [i for i in range(1,len(self.df)+1)]\n",
        "        self.df.columns = ['state_region', 'political_party', 'gender_code', 'ethnic_code',\n",
        "       'drivers_lic', 'mean_age', 'median_age', 'min_age', 'max_age',\n",
        "       'voter_vount', 'p_key']\n",
        "\n",
        "\n",
        "perform_aggregation_object = PerformAggregation()\n",
        "perform_aggregation_object.get_final_dataframe()"
      ]
    },
    {
      "cell_type": "code",
      "execution_count": 25,
      "metadata": {
        "id": "hGNdThmsJX-w"
      },
      "outputs": [],
      "source": [
        "# The below code will create a feature group in the feature store based on the metadata provided\n",
        "voter_fg = fs.get_or_create_feature_group(\n",
        "    name=\"voter_fg\",\n",
        "    version=1,\n",
        "    description=\"Voter data with categorical variables and aggregation\",\n",
        "    primary_key=['p_key'],\n",
        "    online_enabled=True\n",
        ")"
      ]
    },
    {
      "cell_type": "code",
      "execution_count": 26,
      "metadata": {
        "colab": {
          "base_uri": "https://localhost:8080/",
          "height": 153,
          "referenced_widgets": [
            "1019c6e0ae4541069144934b8d2bc637",
            "03f08dd5a2f94f92ad3fc159b55bfdbf",
            "c713fa08283946feaa928dd9d8b4c9f3",
            "a3201c275b384189a471d3c000198b08",
            "00f20ad1cd62448fa95c369f33f94a7b",
            "f674fba6a22641219d436e8a152ad861",
            "72677d2efc5c450dac012ff7899b95f8",
            "7e7f58fff74e449fb591246a4d0a5b27",
            "d2ad376b56814a0688992891d34ccafc",
            "43080978e26544dd963f6019bc0b73b1",
            "6745f29ed37b4aa6ac1f34a3fca114a2"
          ]
        },
        "id": "-FknaAaJK433",
        "outputId": "cfe35dde-2c4a-473c-cba5-17e4fca24257"
      },
      "outputs": [
        {
          "name": "stdout",
          "output_type": "stream",
          "text": [
            "Feature Group created successfully, explore it at \n",
            "https://c.app.hopsworks.ai:443/p/44182/fs/44101/fg/46580\n"
          ]
        },
        {
          "data": {
            "application/vnd.jupyter.widget-view+json": {
              "model_id": "1019c6e0ae4541069144934b8d2bc637",
              "version_major": 2,
              "version_minor": 0
            },
            "text/plain": [
              "Uploading Dataframe: 0.00% |          | Rows 0/290 | Elapsed Time: 00:00 | Remaining Time: ?"
            ]
          },
          "metadata": {},
          "output_type": "display_data"
        },
        {
          "name": "stdout",
          "output_type": "stream",
          "text": [
            "Launching offline feature group backfill job...\n",
            "Backfill Job started successfully, you can follow the progress at \n",
            "https://c.app.hopsworks.ai/p/44182/jobs/named/voter_fg_1_offline_fg_backfill/executions\n"
          ]
        },
        {
          "data": {
            "text/plain": [
              "(<hsfs.core.job.Job at 0x7f5cc48d6590>, None)"
            ]
          },
          "execution_count": 26,
          "metadata": {},
          "output_type": "execute_result"
        }
      ],
      "source": [
        "# Inserting data to the created feature group\n",
        "voter_fg.insert(perform_aggregation_object.df)"
      ]
    },
    {
      "cell_type": "code",
      "execution_count": 27,
      "metadata": {
        "id": "CN0fwv8sNTj9"
      },
      "outputs": [],
      "source": [
        "# Updating the Feature Descriptions\n",
        "\n",
        "feature_descriptions = [\n",
        "    {\"name\": \"state_region\", \"description\": \"It bins the state into Northeast, South, Midwest, West and Others\"},\n",
        "    {\"name\": \"political_party\", \"description\": \"It bins the political party into the Democratic, Republic and Others\"},\n",
        "    {\"name\": \"gender_code\", \"description\": \"Contains information about the Gender code\"},\n",
        "    {\"name\": \"ethnic_code\", \"description\": \"Contains information about the ethnic code\"},\n",
        "    {\"name\": \"drivers_lic\", \"description\": \"Contains information regarding whether the voters have a driver's license or not\"},\n",
        "    {\"name\": \"mean_age\", \"description\": \"Contains information regarding the mean age of the voter\"},\n",
        "    {\"name\": \"median_age\", \"description\": \"Contains information regarding the median age of the voter\"},\n",
        "    {\"name\": \"min_age\", \"description\": \"Contains information regarding the minimum age of the voter\"},\n",
        "    {\"name\": \"max_age\", \"description\": \"Contains information regarding the maximum age of the voter\"},\n",
        "    {\"name\": \"voter_vount\", \"description\": \"Contains information regarding the number of voters\"},\n",
        "    {\"name\": \"p_key\", \"description\": \"This feature is used as a primary key\"},    \n",
        "]\n",
        "\n",
        "for desciption in feature_descriptions: \n",
        "    voter_fg.update_feature_description(desciption[\"name\"], desciption[\"description\"])"
      ]
    }
  ],
  "metadata": {
    "colab": {
      "provenance": []
    },
    "kernelspec": {
      "display_name": "Python 3",
      "language": "python",
      "name": "python3"
    },
    "language_info": {
      "codemirror_mode": {
        "name": "ipython",
        "version": 3
      },
      "file_extension": ".py",
      "mimetype": "text/x-python",
      "name": "python",
      "nbconvert_exporter": "python",
      "pygments_lexer": "ipython3",
      "version": "3.9.2"
    },
    "orig_nbformat": 4,
    "widgets": {
      "application/vnd.jupyter.widget-state+json": {
        "00f20ad1cd62448fa95c369f33f94a7b": {
          "model_module": "@jupyter-widgets/base",
          "model_module_version": "1.2.0",
          "model_name": "LayoutModel",
          "state": {
            "_model_module": "@jupyter-widgets/base",
            "_model_module_version": "1.2.0",
            "_model_name": "LayoutModel",
            "_view_count": null,
            "_view_module": "@jupyter-widgets/base",
            "_view_module_version": "1.2.0",
            "_view_name": "LayoutView",
            "align_content": null,
            "align_items": null,
            "align_self": null,
            "border": null,
            "bottom": null,
            "display": null,
            "flex": null,
            "flex_flow": null,
            "grid_area": null,
            "grid_auto_columns": null,
            "grid_auto_flow": null,
            "grid_auto_rows": null,
            "grid_column": null,
            "grid_gap": null,
            "grid_row": null,
            "grid_template_areas": null,
            "grid_template_columns": null,
            "grid_template_rows": null,
            "height": null,
            "justify_content": null,
            "justify_items": null,
            "left": null,
            "margin": null,
            "max_height": null,
            "max_width": null,
            "min_height": null,
            "min_width": null,
            "object_fit": null,
            "object_position": null,
            "order": null,
            "overflow": null,
            "overflow_x": null,
            "overflow_y": null,
            "padding": null,
            "right": null,
            "top": null,
            "visibility": null,
            "width": null
          }
        },
        "03f08dd5a2f94f92ad3fc159b55bfdbf": {
          "model_module": "@jupyter-widgets/controls",
          "model_module_version": "1.5.0",
          "model_name": "HTMLModel",
          "state": {
            "_dom_classes": [],
            "_model_module": "@jupyter-widgets/controls",
            "_model_module_version": "1.5.0",
            "_model_name": "HTMLModel",
            "_view_count": null,
            "_view_module": "@jupyter-widgets/controls",
            "_view_module_version": "1.5.0",
            "_view_name": "HTMLView",
            "description": "",
            "description_tooltip": null,
            "layout": "IPY_MODEL_f674fba6a22641219d436e8a152ad861",
            "placeholder": "​",
            "style": "IPY_MODEL_72677d2efc5c450dac012ff7899b95f8",
            "value": "Uploading Dataframe: 100.00% "
          }
        },
        "1019c6e0ae4541069144934b8d2bc637": {
          "model_module": "@jupyter-widgets/controls",
          "model_module_version": "1.5.0",
          "model_name": "HBoxModel",
          "state": {
            "_dom_classes": [],
            "_model_module": "@jupyter-widgets/controls",
            "_model_module_version": "1.5.0",
            "_model_name": "HBoxModel",
            "_view_count": null,
            "_view_module": "@jupyter-widgets/controls",
            "_view_module_version": "1.5.0",
            "_view_name": "HBoxView",
            "box_style": "",
            "children": [
              "IPY_MODEL_03f08dd5a2f94f92ad3fc159b55bfdbf",
              "IPY_MODEL_c713fa08283946feaa928dd9d8b4c9f3",
              "IPY_MODEL_a3201c275b384189a471d3c000198b08"
            ],
            "layout": "IPY_MODEL_00f20ad1cd62448fa95c369f33f94a7b"
          }
        },
        "43080978e26544dd963f6019bc0b73b1": {
          "model_module": "@jupyter-widgets/base",
          "model_module_version": "1.2.0",
          "model_name": "LayoutModel",
          "state": {
            "_model_module": "@jupyter-widgets/base",
            "_model_module_version": "1.2.0",
            "_model_name": "LayoutModel",
            "_view_count": null,
            "_view_module": "@jupyter-widgets/base",
            "_view_module_version": "1.2.0",
            "_view_name": "LayoutView",
            "align_content": null,
            "align_items": null,
            "align_self": null,
            "border": null,
            "bottom": null,
            "display": null,
            "flex": null,
            "flex_flow": null,
            "grid_area": null,
            "grid_auto_columns": null,
            "grid_auto_flow": null,
            "grid_auto_rows": null,
            "grid_column": null,
            "grid_gap": null,
            "grid_row": null,
            "grid_template_areas": null,
            "grid_template_columns": null,
            "grid_template_rows": null,
            "height": null,
            "justify_content": null,
            "justify_items": null,
            "left": null,
            "margin": null,
            "max_height": null,
            "max_width": null,
            "min_height": null,
            "min_width": null,
            "object_fit": null,
            "object_position": null,
            "order": null,
            "overflow": null,
            "overflow_x": null,
            "overflow_y": null,
            "padding": null,
            "right": null,
            "top": null,
            "visibility": null,
            "width": null
          }
        },
        "6745f29ed37b4aa6ac1f34a3fca114a2": {
          "model_module": "@jupyter-widgets/controls",
          "model_module_version": "1.5.0",
          "model_name": "DescriptionStyleModel",
          "state": {
            "_model_module": "@jupyter-widgets/controls",
            "_model_module_version": "1.5.0",
            "_model_name": "DescriptionStyleModel",
            "_view_count": null,
            "_view_module": "@jupyter-widgets/base",
            "_view_module_version": "1.2.0",
            "_view_name": "StyleView",
            "description_width": ""
          }
        },
        "72677d2efc5c450dac012ff7899b95f8": {
          "model_module": "@jupyter-widgets/controls",
          "model_module_version": "1.5.0",
          "model_name": "DescriptionStyleModel",
          "state": {
            "_model_module": "@jupyter-widgets/controls",
            "_model_module_version": "1.5.0",
            "_model_name": "DescriptionStyleModel",
            "_view_count": null,
            "_view_module": "@jupyter-widgets/base",
            "_view_module_version": "1.2.0",
            "_view_name": "StyleView",
            "description_width": ""
          }
        },
        "7e7f58fff74e449fb591246a4d0a5b27": {
          "model_module": "@jupyter-widgets/base",
          "model_module_version": "1.2.0",
          "model_name": "LayoutModel",
          "state": {
            "_model_module": "@jupyter-widgets/base",
            "_model_module_version": "1.2.0",
            "_model_name": "LayoutModel",
            "_view_count": null,
            "_view_module": "@jupyter-widgets/base",
            "_view_module_version": "1.2.0",
            "_view_name": "LayoutView",
            "align_content": null,
            "align_items": null,
            "align_self": null,
            "border": null,
            "bottom": null,
            "display": null,
            "flex": null,
            "flex_flow": null,
            "grid_area": null,
            "grid_auto_columns": null,
            "grid_auto_flow": null,
            "grid_auto_rows": null,
            "grid_column": null,
            "grid_gap": null,
            "grid_row": null,
            "grid_template_areas": null,
            "grid_template_columns": null,
            "grid_template_rows": null,
            "height": null,
            "justify_content": null,
            "justify_items": null,
            "left": null,
            "margin": null,
            "max_height": null,
            "max_width": null,
            "min_height": null,
            "min_width": null,
            "object_fit": null,
            "object_position": null,
            "order": null,
            "overflow": null,
            "overflow_x": null,
            "overflow_y": null,
            "padding": null,
            "right": null,
            "top": null,
            "visibility": null,
            "width": null
          }
        },
        "a3201c275b384189a471d3c000198b08": {
          "model_module": "@jupyter-widgets/controls",
          "model_module_version": "1.5.0",
          "model_name": "HTMLModel",
          "state": {
            "_dom_classes": [],
            "_model_module": "@jupyter-widgets/controls",
            "_model_module_version": "1.5.0",
            "_model_name": "HTMLModel",
            "_view_count": null,
            "_view_module": "@jupyter-widgets/controls",
            "_view_module_version": "1.5.0",
            "_view_name": "HTMLView",
            "description": "",
            "description_tooltip": null,
            "layout": "IPY_MODEL_43080978e26544dd963f6019bc0b73b1",
            "placeholder": "​",
            "style": "IPY_MODEL_6745f29ed37b4aa6ac1f34a3fca114a2",
            "value": " Rows 290/290 | Elapsed Time: 00:04 | Remaining Time: 00:00"
          }
        },
        "c713fa08283946feaa928dd9d8b4c9f3": {
          "model_module": "@jupyter-widgets/controls",
          "model_module_version": "1.5.0",
          "model_name": "FloatProgressModel",
          "state": {
            "_dom_classes": [],
            "_model_module": "@jupyter-widgets/controls",
            "_model_module_version": "1.5.0",
            "_model_name": "FloatProgressModel",
            "_view_count": null,
            "_view_module": "@jupyter-widgets/controls",
            "_view_module_version": "1.5.0",
            "_view_name": "ProgressView",
            "bar_style": "success",
            "description": "",
            "description_tooltip": null,
            "layout": "IPY_MODEL_7e7f58fff74e449fb591246a4d0a5b27",
            "max": 290,
            "min": 0,
            "orientation": "horizontal",
            "style": "IPY_MODEL_d2ad376b56814a0688992891d34ccafc",
            "value": 290
          }
        },
        "d2ad376b56814a0688992891d34ccafc": {
          "model_module": "@jupyter-widgets/controls",
          "model_module_version": "1.5.0",
          "model_name": "ProgressStyleModel",
          "state": {
            "_model_module": "@jupyter-widgets/controls",
            "_model_module_version": "1.5.0",
            "_model_name": "ProgressStyleModel",
            "_view_count": null,
            "_view_module": "@jupyter-widgets/base",
            "_view_module_version": "1.2.0",
            "_view_name": "StyleView",
            "bar_color": null,
            "description_width": ""
          }
        },
        "f674fba6a22641219d436e8a152ad861": {
          "model_module": "@jupyter-widgets/base",
          "model_module_version": "1.2.0",
          "model_name": "LayoutModel",
          "state": {
            "_model_module": "@jupyter-widgets/base",
            "_model_module_version": "1.2.0",
            "_model_name": "LayoutModel",
            "_view_count": null,
            "_view_module": "@jupyter-widgets/base",
            "_view_module_version": "1.2.0",
            "_view_name": "LayoutView",
            "align_content": null,
            "align_items": null,
            "align_self": null,
            "border": null,
            "bottom": null,
            "display": null,
            "flex": null,
            "flex_flow": null,
            "grid_area": null,
            "grid_auto_columns": null,
            "grid_auto_flow": null,
            "grid_auto_rows": null,
            "grid_column": null,
            "grid_gap": null,
            "grid_row": null,
            "grid_template_areas": null,
            "grid_template_columns": null,
            "grid_template_rows": null,
            "height": null,
            "justify_content": null,
            "justify_items": null,
            "left": null,
            "margin": null,
            "max_height": null,
            "max_width": null,
            "min_height": null,
            "min_width": null,
            "object_fit": null,
            "object_position": null,
            "order": null,
            "overflow": null,
            "overflow_x": null,
            "overflow_y": null,
            "padding": null,
            "right": null,
            "top": null,
            "visibility": null,
            "width": null
          }
        }
      }
    }
  },
  "nbformat": 4,
  "nbformat_minor": 0
}
