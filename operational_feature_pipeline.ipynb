{
  "nbformat": 4,
  "nbformat_minor": 0,
  "metadata": {
    "colab": {
      "provenance": []
    },
    "kernelspec": {
      "name": "python3",
      "display_name": "Python 3"
    },
    "language_info": {
      "name": "python"
    },
    "widgets": {
      "application/vnd.jupyter.widget-state+json": {
        "faa9550b4894457cb396bceb820e2898": {
          "model_module": "@jupyter-widgets/controls",
          "model_name": "HBoxModel",
          "model_module_version": "1.5.0",
          "state": {
            "_dom_classes": [],
            "_model_module": "@jupyter-widgets/controls",
            "_model_module_version": "1.5.0",
            "_model_name": "HBoxModel",
            "_view_count": null,
            "_view_module": "@jupyter-widgets/controls",
            "_view_module_version": "1.5.0",
            "_view_name": "HBoxView",
            "box_style": "",
            "children": [
              "IPY_MODEL_63f21508fb8b4e22bce2b1d80395f350",
              "IPY_MODEL_e4f30f41552542d99aecd46503cdf8c1",
              "IPY_MODEL_f6e40763a5884931830b96ec612a00ca"
            ],
            "layout": "IPY_MODEL_c4cab3f86bce46ffb8dcba882d55ee05"
          }
        },
        "63f21508fb8b4e22bce2b1d80395f350": {
          "model_module": "@jupyter-widgets/controls",
          "model_name": "HTMLModel",
          "model_module_version": "1.5.0",
          "state": {
            "_dom_classes": [],
            "_model_module": "@jupyter-widgets/controls",
            "_model_module_version": "1.5.0",
            "_model_name": "HTMLModel",
            "_view_count": null,
            "_view_module": "@jupyter-widgets/controls",
            "_view_module_version": "1.5.0",
            "_view_name": "HTMLView",
            "description": "",
            "description_tooltip": null,
            "layout": "IPY_MODEL_ab6b32ac58e64d2caf2a0d07a7209beb",
            "placeholder": "​",
            "style": "IPY_MODEL_69ed9e94e1904c36b2212cbffcd030cb",
            "value": "Uploading Dataframe: 100.00% "
          }
        },
        "e4f30f41552542d99aecd46503cdf8c1": {
          "model_module": "@jupyter-widgets/controls",
          "model_name": "FloatProgressModel",
          "model_module_version": "1.5.0",
          "state": {
            "_dom_classes": [],
            "_model_module": "@jupyter-widgets/controls",
            "_model_module_version": "1.5.0",
            "_model_name": "FloatProgressModel",
            "_view_count": null,
            "_view_module": "@jupyter-widgets/controls",
            "_view_module_version": "1.5.0",
            "_view_name": "ProgressView",
            "bar_style": "success",
            "description": "",
            "description_tooltip": null,
            "layout": "IPY_MODEL_dcdd42101cdc4ab4beb33842baef044f",
            "max": 20713,
            "min": 0,
            "orientation": "horizontal",
            "style": "IPY_MODEL_e6fc265fed4b4d44a62a8cd803a2f5df",
            "value": 20713
          }
        },
        "f6e40763a5884931830b96ec612a00ca": {
          "model_module": "@jupyter-widgets/controls",
          "model_name": "HTMLModel",
          "model_module_version": "1.5.0",
          "state": {
            "_dom_classes": [],
            "_model_module": "@jupyter-widgets/controls",
            "_model_module_version": "1.5.0",
            "_model_name": "HTMLModel",
            "_view_count": null,
            "_view_module": "@jupyter-widgets/controls",
            "_view_module_version": "1.5.0",
            "_view_name": "HTMLView",
            "description": "",
            "description_tooltip": null,
            "layout": "IPY_MODEL_3edbb4ccb8f448aaa2e84f31feca4396",
            "placeholder": "​",
            "style": "IPY_MODEL_65c548823aac4dad97882a4d136df945",
            "value": " Rows 20713/20713 | Elapsed Time: 00:01 | Remaining Time: 00:00"
          }
        },
        "c4cab3f86bce46ffb8dcba882d55ee05": {
          "model_module": "@jupyter-widgets/base",
          "model_name": "LayoutModel",
          "model_module_version": "1.2.0",
          "state": {
            "_model_module": "@jupyter-widgets/base",
            "_model_module_version": "1.2.0",
            "_model_name": "LayoutModel",
            "_view_count": null,
            "_view_module": "@jupyter-widgets/base",
            "_view_module_version": "1.2.0",
            "_view_name": "LayoutView",
            "align_content": null,
            "align_items": null,
            "align_self": null,
            "border": null,
            "bottom": null,
            "display": null,
            "flex": null,
            "flex_flow": null,
            "grid_area": null,
            "grid_auto_columns": null,
            "grid_auto_flow": null,
            "grid_auto_rows": null,
            "grid_column": null,
            "grid_gap": null,
            "grid_row": null,
            "grid_template_areas": null,
            "grid_template_columns": null,
            "grid_template_rows": null,
            "height": null,
            "justify_content": null,
            "justify_items": null,
            "left": null,
            "margin": null,
            "max_height": null,
            "max_width": null,
            "min_height": null,
            "min_width": null,
            "object_fit": null,
            "object_position": null,
            "order": null,
            "overflow": null,
            "overflow_x": null,
            "overflow_y": null,
            "padding": null,
            "right": null,
            "top": null,
            "visibility": null,
            "width": null
          }
        },
        "ab6b32ac58e64d2caf2a0d07a7209beb": {
          "model_module": "@jupyter-widgets/base",
          "model_name": "LayoutModel",
          "model_module_version": "1.2.0",
          "state": {
            "_model_module": "@jupyter-widgets/base",
            "_model_module_version": "1.2.0",
            "_model_name": "LayoutModel",
            "_view_count": null,
            "_view_module": "@jupyter-widgets/base",
            "_view_module_version": "1.2.0",
            "_view_name": "LayoutView",
            "align_content": null,
            "align_items": null,
            "align_self": null,
            "border": null,
            "bottom": null,
            "display": null,
            "flex": null,
            "flex_flow": null,
            "grid_area": null,
            "grid_auto_columns": null,
            "grid_auto_flow": null,
            "grid_auto_rows": null,
            "grid_column": null,
            "grid_gap": null,
            "grid_row": null,
            "grid_template_areas": null,
            "grid_template_columns": null,
            "grid_template_rows": null,
            "height": null,
            "justify_content": null,
            "justify_items": null,
            "left": null,
            "margin": null,
            "max_height": null,
            "max_width": null,
            "min_height": null,
            "min_width": null,
            "object_fit": null,
            "object_position": null,
            "order": null,
            "overflow": null,
            "overflow_x": null,
            "overflow_y": null,
            "padding": null,
            "right": null,
            "top": null,
            "visibility": null,
            "width": null
          }
        },
        "69ed9e94e1904c36b2212cbffcd030cb": {
          "model_module": "@jupyter-widgets/controls",
          "model_name": "DescriptionStyleModel",
          "model_module_version": "1.5.0",
          "state": {
            "_model_module": "@jupyter-widgets/controls",
            "_model_module_version": "1.5.0",
            "_model_name": "DescriptionStyleModel",
            "_view_count": null,
            "_view_module": "@jupyter-widgets/base",
            "_view_module_version": "1.2.0",
            "_view_name": "StyleView",
            "description_width": ""
          }
        },
        "dcdd42101cdc4ab4beb33842baef044f": {
          "model_module": "@jupyter-widgets/base",
          "model_name": "LayoutModel",
          "model_module_version": "1.2.0",
          "state": {
            "_model_module": "@jupyter-widgets/base",
            "_model_module_version": "1.2.0",
            "_model_name": "LayoutModel",
            "_view_count": null,
            "_view_module": "@jupyter-widgets/base",
            "_view_module_version": "1.2.0",
            "_view_name": "LayoutView",
            "align_content": null,
            "align_items": null,
            "align_self": null,
            "border": null,
            "bottom": null,
            "display": null,
            "flex": null,
            "flex_flow": null,
            "grid_area": null,
            "grid_auto_columns": null,
            "grid_auto_flow": null,
            "grid_auto_rows": null,
            "grid_column": null,
            "grid_gap": null,
            "grid_row": null,
            "grid_template_areas": null,
            "grid_template_columns": null,
            "grid_template_rows": null,
            "height": null,
            "justify_content": null,
            "justify_items": null,
            "left": null,
            "margin": null,
            "max_height": null,
            "max_width": null,
            "min_height": null,
            "min_width": null,
            "object_fit": null,
            "object_position": null,
            "order": null,
            "overflow": null,
            "overflow_x": null,
            "overflow_y": null,
            "padding": null,
            "right": null,
            "top": null,
            "visibility": null,
            "width": null
          }
        },
        "e6fc265fed4b4d44a62a8cd803a2f5df": {
          "model_module": "@jupyter-widgets/controls",
          "model_name": "ProgressStyleModel",
          "model_module_version": "1.5.0",
          "state": {
            "_model_module": "@jupyter-widgets/controls",
            "_model_module_version": "1.5.0",
            "_model_name": "ProgressStyleModel",
            "_view_count": null,
            "_view_module": "@jupyter-widgets/base",
            "_view_module_version": "1.2.0",
            "_view_name": "StyleView",
            "bar_color": null,
            "description_width": ""
          }
        },
        "3edbb4ccb8f448aaa2e84f31feca4396": {
          "model_module": "@jupyter-widgets/base",
          "model_name": "LayoutModel",
          "model_module_version": "1.2.0",
          "state": {
            "_model_module": "@jupyter-widgets/base",
            "_model_module_version": "1.2.0",
            "_model_name": "LayoutModel",
            "_view_count": null,
            "_view_module": "@jupyter-widgets/base",
            "_view_module_version": "1.2.0",
            "_view_name": "LayoutView",
            "align_content": null,
            "align_items": null,
            "align_self": null,
            "border": null,
            "bottom": null,
            "display": null,
            "flex": null,
            "flex_flow": null,
            "grid_area": null,
            "grid_auto_columns": null,
            "grid_auto_flow": null,
            "grid_auto_rows": null,
            "grid_column": null,
            "grid_gap": null,
            "grid_row": null,
            "grid_template_areas": null,
            "grid_template_columns": null,
            "grid_template_rows": null,
            "height": null,
            "justify_content": null,
            "justify_items": null,
            "left": null,
            "margin": null,
            "max_height": null,
            "max_width": null,
            "min_height": null,
            "min_width": null,
            "object_fit": null,
            "object_position": null,
            "order": null,
            "overflow": null,
            "overflow_x": null,
            "overflow_y": null,
            "padding": null,
            "right": null,
            "top": null,
            "visibility": null,
            "width": null
          }
        },
        "65c548823aac4dad97882a4d136df945": {
          "model_module": "@jupyter-widgets/controls",
          "model_name": "DescriptionStyleModel",
          "model_module_version": "1.5.0",
          "state": {
            "_model_module": "@jupyter-widgets/controls",
            "_model_module_version": "1.5.0",
            "_model_name": "DescriptionStyleModel",
            "_view_count": null,
            "_view_module": "@jupyter-widgets/base",
            "_view_module_version": "1.2.0",
            "_view_name": "StyleView",
            "description_width": ""
          }
        }
      }
    }
  },
  "cells": [
    {
      "cell_type": "code",
      "source": [
        "!pip install hopsworks"
      ],
      "metadata": {
        "colab": {
          "base_uri": "https://localhost:8080/",
          "height": 1000
        },
        "id": "m_NwIaZ6wSNn",
        "outputId": "7ec689f6-928a-4cf0-d9c8-23630dd97031"
      },
      "execution_count": 1,
      "outputs": [
        {
          "output_type": "stream",
          "name": "stdout",
          "text": [
            "Looking in indexes: https://pypi.org/simple, https://us-python.pkg.dev/colab-wheels/public/simple/\n",
            "Collecting hopsworks\n",
            "  Downloading hopsworks-3.0.5.tar.gz (35 kB)\n",
            "  Preparing metadata (setup.py) ... \u001b[?25l\u001b[?25hdone\n",
            "Collecting hsfs[python]<3.1.0,>=3.0.0 (from hopsworks)\n",
            "  Downloading hsfs-3.0.7.tar.gz (120 kB)\n",
            "\u001b[2K     \u001b[90m━━━━━━━━━━━━━━━━━━━━━━━━━━━━━━━━━━━━━━━\u001b[0m \u001b[32m120.7/120.7 kB\u001b[0m \u001b[31m8.0 MB/s\u001b[0m eta \u001b[36m0:00:00\u001b[0m\n",
            "\u001b[?25h  Preparing metadata (setup.py) ... \u001b[?25l\u001b[?25hdone\n",
            "Collecting hsml<3.1.0,>=3.0.0 (from hopsworks)\n",
            "  Downloading hsml-3.0.3.tar.gz (50 kB)\n",
            "\u001b[2K     \u001b[90m━━━━━━━━━━━━━━━━━━━━━━━━━━━━━━━━━━━━━━━━\u001b[0m \u001b[32m50.9/50.9 kB\u001b[0m \u001b[31m6.6 MB/s\u001b[0m eta \u001b[36m0:00:00\u001b[0m\n",
            "\u001b[?25h  Preparing metadata (setup.py) ... \u001b[?25l\u001b[?25hdone\n",
            "Collecting pyhumps==1.6.1 (from hopsworks)\n",
            "  Downloading pyhumps-1.6.1-py3-none-any.whl (5.0 kB)\n",
            "Requirement already satisfied: requests in /usr/local/lib/python3.10/dist-packages (from hopsworks) (2.27.1)\n",
            "Collecting furl (from hopsworks)\n",
            "  Downloading furl-2.1.3-py2.py3-none-any.whl (20 kB)\n",
            "Collecting boto3 (from hopsworks)\n",
            "  Downloading boto3-1.26.142-py3-none-any.whl (135 kB)\n",
            "\u001b[2K     \u001b[90m━━━━━━━━━━━━━━━━━━━━━━━━━━━━━━━━━━━━━━\u001b[0m \u001b[32m135.6/135.6 kB\u001b[0m \u001b[31m13.6 MB/s\u001b[0m eta \u001b[36m0:00:00\u001b[0m\n",
            "\u001b[?25hCollecting pyjks (from hopsworks)\n",
            "  Downloading pyjks-20.0.0-py2.py3-none-any.whl (45 kB)\n",
            "\u001b[2K     \u001b[90m━━━━━━━━━━━━━━━━━━━━━━━━━━━━━━━━━━━━━━━━\u001b[0m \u001b[32m45.3/45.3 kB\u001b[0m \u001b[31m5.1 MB/s\u001b[0m eta \u001b[36m0:00:00\u001b[0m\n",
            "\u001b[?25hCollecting mock (from hopsworks)\n",
            "  Downloading mock-5.0.2-py3-none-any.whl (30 kB)\n",
            "Requirement already satisfied: tqdm in /usr/local/lib/python3.10/dist-packages (from hopsworks) (4.65.0)\n",
            "Requirement already satisfied: pandas<2.0.0,>=1.2.0 in /usr/local/lib/python3.10/dist-packages (from hsfs[python]<3.1.0,>=3.0.0->hopsworks) (1.5.3)\n",
            "Requirement already satisfied: numpy in /usr/local/lib/python3.10/dist-packages (from hsfs[python]<3.1.0,>=3.0.0->hopsworks) (1.22.4)\n",
            "Collecting avro==1.10.2 (from hsfs[python]<3.1.0,>=3.0.0->hopsworks)\n",
            "  Downloading avro-1.10.2.tar.gz (68 kB)\n",
            "\u001b[2K     \u001b[90m━━━━━━━━━━━━━━━━━━━━━━━━━━━━━━━━━━━━━━━━\u001b[0m \u001b[32m68.2/68.2 kB\u001b[0m \u001b[31m8.0 MB/s\u001b[0m eta \u001b[36m0:00:00\u001b[0m\n",
            "\u001b[?25h  Preparing metadata (setup.py) ... \u001b[?25l\u001b[?25hdone\n",
            "Requirement already satisfied: sqlalchemy in /usr/local/lib/python3.10/dist-packages (from hsfs[python]<3.1.0,>=3.0.0->hopsworks) (2.0.10)\n",
            "Collecting PyMySQL[rsa] (from hsfs[python]<3.1.0,>=3.0.0->hopsworks)\n",
            "  Downloading PyMySQL-1.0.3-py3-none-any.whl (43 kB)\n",
            "\u001b[2K     \u001b[90m━━━━━━━━━━━━━━━━━━━━━━━━━━━━━━━━━━━━━━━━\u001b[0m \u001b[32m43.7/43.7 kB\u001b[0m \u001b[31m4.7 MB/s\u001b[0m eta \u001b[36m0:00:00\u001b[0m\n",
            "\u001b[?25hCollecting great_expectations==0.14.12 (from hsfs[python]<3.1.0,>=3.0.0->hopsworks)\n",
            "  Downloading great_expectations-0.14.12-py3-none-any.whl (4.9 MB)\n",
            "\u001b[2K     \u001b[90m━━━━━━━━━━━━━━━━━━━━━━━━━━━━━━━━━━━━━━━━\u001b[0m \u001b[32m4.9/4.9 MB\u001b[0m \u001b[31m77.0 MB/s\u001b[0m eta \u001b[36m0:00:00\u001b[0m\n",
            "\u001b[?25hCollecting markupsafe<2.1.0 (from hsfs[python]<3.1.0,>=3.0.0->hopsworks)\n",
            "  Downloading MarkupSafe-2.0.1-cp310-cp310-manylinux_2_5_x86_64.manylinux1_x86_64.manylinux_2_12_x86_64.manylinux2010_x86_64.whl (30 kB)\n",
            "Collecting pyhopshive[thrift] (from hsfs[python]<3.1.0,>=3.0.0->hopsworks)\n",
            "  Downloading PyHopsHive-0.6.4.1.dev0.tar.gz (42 kB)\n",
            "\u001b[2K     \u001b[90m━━━━━━━━━━━━━━━━━━━━━━━━━━━━━━━━━━━━━━━━\u001b[0m \u001b[32m42.9/42.9 kB\u001b[0m \u001b[31m4.8 MB/s\u001b[0m eta \u001b[36m0:00:00\u001b[0m\n",
            "\u001b[?25h  Preparing metadata (setup.py) ... \u001b[?25l\u001b[?25hdone\n",
            "Requirement already satisfied: pyarrow in /usr/local/lib/python3.10/dist-packages (from hsfs[python]<3.1.0,>=3.0.0->hopsworks) (9.0.0)\n",
            "Collecting confluent-kafka<=1.9.0 (from hsfs[python]<3.1.0,>=3.0.0->hopsworks)\n",
            "  Downloading confluent_kafka-1.9.0-cp310-cp310-manylinux_2_17_x86_64.manylinux2014_x86_64.whl (3.1 MB)\n",
            "\u001b[2K     \u001b[90m━━━━━━━━━━━━━━━━━━━━━━━━━━━━━━━━━━━━━━━━\u001b[0m \u001b[32m3.1/3.1 MB\u001b[0m \u001b[31m31.2 MB/s\u001b[0m eta \u001b[36m0:00:00\u001b[0m\n",
            "\u001b[?25hCollecting fastavro==1.4.11 (from hsfs[python]<3.1.0,>=3.0.0->hopsworks)\n",
            "  Downloading fastavro-1.4.11-cp310-cp310-manylinux_2_17_x86_64.manylinux2014_x86_64.whl (2.5 MB)\n",
            "\u001b[2K     \u001b[90m━━━━━━━━━━━━━━━━━━━━━━━━━━━━━━━━━━━━━━━━\u001b[0m \u001b[32m2.5/2.5 MB\u001b[0m \u001b[31m22.8 MB/s\u001b[0m eta \u001b[36m0:00:00\u001b[0m\n",
            "\u001b[?25hRequirement already satisfied: altair<5,>=4.0.0 in /usr/local/lib/python3.10/dist-packages (from great_expectations==0.14.12->hsfs[python]<3.1.0,>=3.0.0->hopsworks) (4.2.2)\n",
            "Requirement already satisfied: Click>=7.1.2 in /usr/local/lib/python3.10/dist-packages (from great_expectations==0.14.12->hsfs[python]<3.1.0,>=3.0.0->hopsworks) (8.1.3)\n",
            "Collecting colorama>=0.4.3 (from great_expectations==0.14.12->hsfs[python]<3.1.0,>=3.0.0->hopsworks)\n",
            "  Downloading colorama-0.4.6-py2.py3-none-any.whl (25 kB)\n",
            "Requirement already satisfied: cryptography>=3.2 in /usr/local/lib/python3.10/dist-packages (from great_expectations==0.14.12->hsfs[python]<3.1.0,>=3.0.0->hopsworks) (40.0.2)\n",
            "Collecting importlib-metadata>=1.7.0 (from great_expectations==0.14.12->hsfs[python]<3.1.0,>=3.0.0->hopsworks)\n",
            "  Downloading importlib_metadata-6.6.0-py3-none-any.whl (22 kB)\n",
            "Requirement already satisfied: ipywidgets>=7.5.1 in /usr/local/lib/python3.10/dist-packages (from great_expectations==0.14.12->hsfs[python]<3.1.0,>=3.0.0->hopsworks) (7.7.1)\n",
            "Collecting jinja2<3.1.0,>=2.10 (from great_expectations==0.14.12->hsfs[python]<3.1.0,>=3.0.0->hopsworks)\n",
            "  Downloading Jinja2-3.0.3-py3-none-any.whl (133 kB)\n",
            "\u001b[2K     \u001b[90m━━━━━━━━━━━━━━━━━━━━━━━━━━━━━━━━━━━━━━\u001b[0m \u001b[32m133.6/133.6 kB\u001b[0m \u001b[31m13.8 MB/s\u001b[0m eta \u001b[36m0:00:00\u001b[0m\n",
            "\u001b[?25hCollecting jsonpatch>=1.22 (from great_expectations==0.14.12->hsfs[python]<3.1.0,>=3.0.0->hopsworks)\n",
            "  Downloading jsonpatch-1.32-py2.py3-none-any.whl (12 kB)\n",
            "Requirement already satisfied: jsonschema>=2.5.1 in /usr/local/lib/python3.10/dist-packages (from great_expectations==0.14.12->hsfs[python]<3.1.0,>=3.0.0->hopsworks) (4.3.3)\n",
            "Requirement already satisfied: mistune<2.0.0,>=0.8.4 in /usr/local/lib/python3.10/dist-packages (from great_expectations==0.14.12->hsfs[python]<3.1.0,>=3.0.0->hopsworks) (0.8.4)\n",
            "Requirement already satisfied: nbformat>=5.0 in /usr/local/lib/python3.10/dist-packages (from great_expectations==0.14.12->hsfs[python]<3.1.0,>=3.0.0->hopsworks) (5.8.0)\n",
            "Requirement already satisfied: packaging in /usr/local/lib/python3.10/dist-packages (from great_expectations==0.14.12->hsfs[python]<3.1.0,>=3.0.0->hopsworks) (23.1)\n",
            "Collecting pyparsing<3,>=2.4 (from great_expectations==0.14.12->hsfs[python]<3.1.0,>=3.0.0->hopsworks)\n",
            "  Downloading pyparsing-2.4.7-py2.py3-none-any.whl (67 kB)\n",
            "\u001b[2K     \u001b[90m━━━━━━━━━━━━━━━━━━━━━━━━━━━━━━━━━━━━━━━━\u001b[0m \u001b[32m67.8/67.8 kB\u001b[0m \u001b[31m4.7 MB/s\u001b[0m eta \u001b[36m0:00:00\u001b[0m\n",
            "\u001b[?25hRequirement already satisfied: python-dateutil>=2.8.1 in /usr/local/lib/python3.10/dist-packages (from great_expectations==0.14.12->hsfs[python]<3.1.0,>=3.0.0->hopsworks) (2.8.2)\n",
            "Requirement already satisfied: pytz>=2021.3 in /usr/local/lib/python3.10/dist-packages (from great_expectations==0.14.12->hsfs[python]<3.1.0,>=3.0.0->hopsworks) (2022.7.1)\n",
            "Collecting ruamel.yaml<0.17.18,>=0.16 (from great_expectations==0.14.12->hsfs[python]<3.1.0,>=3.0.0->hopsworks)\n",
            "  Downloading ruamel.yaml-0.17.17-py3-none-any.whl (109 kB)\n",
            "\u001b[2K     \u001b[90m━━━━━━━━━━━━━━━━━━━━━━━━━━━━━━━━━━━━━━\u001b[0m \u001b[32m109.1/109.1 kB\u001b[0m \u001b[31m11.8 MB/s\u001b[0m eta \u001b[36m0:00:00\u001b[0m\n",
            "\u001b[?25hRequirement already satisfied: scipy>=0.19.0 in /usr/local/lib/python3.10/dist-packages (from great_expectations==0.14.12->hsfs[python]<3.1.0,>=3.0.0->hopsworks) (1.10.1)\n",
            "Requirement already satisfied: termcolor>=1.1.0 in /usr/local/lib/python3.10/dist-packages (from great_expectations==0.14.12->hsfs[python]<3.1.0,>=3.0.0->hopsworks) (2.3.0)\n",
            "Requirement already satisfied: typing-extensions>=3.10.0.0 in /usr/local/lib/python3.10/dist-packages (from great_expectations==0.14.12->hsfs[python]<3.1.0,>=3.0.0->hopsworks) (4.5.0)\n",
            "Requirement already satisfied: tzlocal>=1.2 in /usr/local/lib/python3.10/dist-packages (from great_expectations==0.14.12->hsfs[python]<3.1.0,>=3.0.0->hopsworks) (4.3)\n",
            "Requirement already satisfied: urllib3<1.27,>=1.25.4 in /usr/local/lib/python3.10/dist-packages (from great_expectations==0.14.12->hsfs[python]<3.1.0,>=3.0.0->hopsworks) (1.26.15)\n",
            "Requirement already satisfied: certifi>=2017.4.17 in /usr/local/lib/python3.10/dist-packages (from requests->hopsworks) (2022.12.7)\n",
            "Requirement already satisfied: charset-normalizer~=2.0.0 in /usr/local/lib/python3.10/dist-packages (from requests->hopsworks) (2.0.12)\n",
            "Requirement already satisfied: idna<4,>=2.5 in /usr/local/lib/python3.10/dist-packages (from requests->hopsworks) (3.4)\n",
            "Collecting botocore<1.30.0,>=1.29.142 (from boto3->hopsworks)\n",
            "  Downloading botocore-1.29.142-py3-none-any.whl (10.8 MB)\n",
            "\u001b[2K     \u001b[90m━━━━━━━━━━━━━━━━━━━━━━━━━━━━━━━━━━━━━━━━\u001b[0m \u001b[32m10.8/10.8 MB\u001b[0m \u001b[31m48.7 MB/s\u001b[0m eta \u001b[36m0:00:00\u001b[0m\n",
            "\u001b[?25hCollecting jmespath<2.0.0,>=0.7.1 (from boto3->hopsworks)\n",
            "  Downloading jmespath-1.0.1-py3-none-any.whl (20 kB)\n",
            "Collecting s3transfer<0.7.0,>=0.6.0 (from boto3->hopsworks)\n",
            "  Downloading s3transfer-0.6.1-py3-none-any.whl (79 kB)\n",
            "\u001b[2K     \u001b[90m━━━━━━━━━━━━━━━━━━━━━━━━━━━━━━━━━━━━━━━━\u001b[0m \u001b[32m79.8/79.8 kB\u001b[0m \u001b[31m9.0 MB/s\u001b[0m eta \u001b[36m0:00:00\u001b[0m\n",
            "\u001b[?25hRequirement already satisfied: six>=1.8.0 in /usr/local/lib/python3.10/dist-packages (from furl->hopsworks) (1.16.0)\n",
            "Collecting orderedmultidict>=1.0.1 (from furl->hopsworks)\n",
            "  Downloading orderedmultidict-1.0.1-py2.py3-none-any.whl (11 kB)\n",
            "Collecting javaobj-py3 (from pyjks->hopsworks)\n",
            "  Downloading javaobj_py3-0.4.3-py2.py3-none-any.whl (57 kB)\n",
            "\u001b[2K     \u001b[90m━━━━━━━━━━━━━━━━━━━━━━━━━━━━━━━━━━━━━━━━\u001b[0m \u001b[32m57.3/57.3 kB\u001b[0m \u001b[31m7.1 MB/s\u001b[0m eta \u001b[36m0:00:00\u001b[0m\n",
            "\u001b[?25hRequirement already satisfied: pyasn1>=0.3.5 in /usr/local/lib/python3.10/dist-packages (from pyjks->hopsworks) (0.5.0)\n",
            "Requirement already satisfied: pyasn1-modules in /usr/local/lib/python3.10/dist-packages (from pyjks->hopsworks) (0.3.0)\n",
            "Collecting pycryptodomex (from pyjks->hopsworks)\n",
            "  Downloading pycryptodomex-3.18.0-cp35-abi3-manylinux_2_17_x86_64.manylinux2014_x86_64.whl (2.1 MB)\n",
            "\u001b[2K     \u001b[90m━━━━━━━━━━━━━━━━━━━━━━━━━━━━━━━━━━━━━━━━\u001b[0m \u001b[32m2.1/2.1 MB\u001b[0m \u001b[31m71.6 MB/s\u001b[0m eta \u001b[36m0:00:00\u001b[0m\n",
            "\u001b[?25hCollecting twofish (from pyjks->hopsworks)\n",
            "  Downloading twofish-0.3.0.tar.gz (26 kB)\n",
            "  Preparing metadata (setup.py) ... \u001b[?25l\u001b[?25hdone\n",
            "Requirement already satisfied: future in /usr/local/lib/python3.10/dist-packages (from pyhopshive[thrift]->hsfs[python]<3.1.0,>=3.0.0->hopsworks) (0.18.3)\n",
            "Collecting thrift>=0.10.0 (from pyhopshive[thrift]->hsfs[python]<3.1.0,>=3.0.0->hopsworks)\n",
            "  Downloading thrift-0.16.0.tar.gz (59 kB)\n",
            "\u001b[2K     \u001b[90m━━━━━━━━━━━━━━━━━━━━━━━━━━━━━━━━━━━━━━━━\u001b[0m \u001b[32m59.6/59.6 kB\u001b[0m \u001b[31m4.3 MB/s\u001b[0m eta \u001b[36m0:00:00\u001b[0m\n",
            "\u001b[?25h  Preparing metadata (setup.py) ... \u001b[?25l\u001b[?25hdone\n",
            "Requirement already satisfied: greenlet!=0.4.17 in /usr/local/lib/python3.10/dist-packages (from sqlalchemy->hsfs[python]<3.1.0,>=3.0.0->hopsworks) (2.0.2)\n",
            "Requirement already satisfied: entrypoints in /usr/local/lib/python3.10/dist-packages (from altair<5,>=4.0.0->great_expectations==0.14.12->hsfs[python]<3.1.0,>=3.0.0->hopsworks) (0.4)\n",
            "Requirement already satisfied: toolz in /usr/local/lib/python3.10/dist-packages (from altair<5,>=4.0.0->great_expectations==0.14.12->hsfs[python]<3.1.0,>=3.0.0->hopsworks) (0.12.0)\n",
            "Requirement already satisfied: cffi>=1.12 in /usr/local/lib/python3.10/dist-packages (from cryptography>=3.2->great_expectations==0.14.12->hsfs[python]<3.1.0,>=3.0.0->hopsworks) (1.15.1)\n",
            "Requirement already satisfied: zipp>=0.5 in /usr/local/lib/python3.10/dist-packages (from importlib-metadata>=1.7.0->great_expectations==0.14.12->hsfs[python]<3.1.0,>=3.0.0->hopsworks) (3.15.0)\n",
            "Requirement already satisfied: ipykernel>=4.5.1 in /usr/local/lib/python3.10/dist-packages (from ipywidgets>=7.5.1->great_expectations==0.14.12->hsfs[python]<3.1.0,>=3.0.0->hopsworks) (5.5.6)\n",
            "Requirement already satisfied: ipython-genutils~=0.2.0 in /usr/local/lib/python3.10/dist-packages (from ipywidgets>=7.5.1->great_expectations==0.14.12->hsfs[python]<3.1.0,>=3.0.0->hopsworks) (0.2.0)\n",
            "Requirement already satisfied: traitlets>=4.3.1 in /usr/local/lib/python3.10/dist-packages (from ipywidgets>=7.5.1->great_expectations==0.14.12->hsfs[python]<3.1.0,>=3.0.0->hopsworks) (5.7.1)\n",
            "Requirement already satisfied: widgetsnbextension~=3.6.0 in /usr/local/lib/python3.10/dist-packages (from ipywidgets>=7.5.1->great_expectations==0.14.12->hsfs[python]<3.1.0,>=3.0.0->hopsworks) (3.6.4)\n",
            "Requirement already satisfied: ipython>=4.0.0 in /usr/local/lib/python3.10/dist-packages (from ipywidgets>=7.5.1->great_expectations==0.14.12->hsfs[python]<3.1.0,>=3.0.0->hopsworks) (7.34.0)\n",
            "Requirement already satisfied: jupyterlab-widgets>=1.0.0 in /usr/local/lib/python3.10/dist-packages (from ipywidgets>=7.5.1->great_expectations==0.14.12->hsfs[python]<3.1.0,>=3.0.0->hopsworks) (3.0.7)\n",
            "Collecting jsonpointer>=1.9 (from jsonpatch>=1.22->great_expectations==0.14.12->hsfs[python]<3.1.0,>=3.0.0->hopsworks)\n",
            "  Downloading jsonpointer-2.3-py2.py3-none-any.whl (7.8 kB)\n",
            "Requirement already satisfied: attrs>=17.4.0 in /usr/local/lib/python3.10/dist-packages (from jsonschema>=2.5.1->great_expectations==0.14.12->hsfs[python]<3.1.0,>=3.0.0->hopsworks) (23.1.0)\n",
            "Requirement already satisfied: pyrsistent!=0.17.0,!=0.17.1,!=0.17.2,>=0.14.0 in /usr/local/lib/python3.10/dist-packages (from jsonschema>=2.5.1->great_expectations==0.14.12->hsfs[python]<3.1.0,>=3.0.0->hopsworks) (0.19.3)\n",
            "Requirement already satisfied: fastjsonschema in /usr/local/lib/python3.10/dist-packages (from nbformat>=5.0->great_expectations==0.14.12->hsfs[python]<3.1.0,>=3.0.0->hopsworks) (2.16.3)\n",
            "Requirement already satisfied: jupyter-core in /usr/local/lib/python3.10/dist-packages (from nbformat>=5.0->great_expectations==0.14.12->hsfs[python]<3.1.0,>=3.0.0->hopsworks) (5.3.0)\n",
            "Requirement already satisfied: pytz-deprecation-shim in /usr/local/lib/python3.10/dist-packages (from tzlocal>=1.2->great_expectations==0.14.12->hsfs[python]<3.1.0,>=3.0.0->hopsworks) (0.1.0.post0)\n",
            "Requirement already satisfied: pycparser in /usr/local/lib/python3.10/dist-packages (from cffi>=1.12->cryptography>=3.2->great_expectations==0.14.12->hsfs[python]<3.1.0,>=3.0.0->hopsworks) (2.21)\n",
            "Requirement already satisfied: jupyter-client in /usr/local/lib/python3.10/dist-packages (from ipykernel>=4.5.1->ipywidgets>=7.5.1->great_expectations==0.14.12->hsfs[python]<3.1.0,>=3.0.0->hopsworks) (6.1.12)\n",
            "Requirement already satisfied: tornado>=4.2 in /usr/local/lib/python3.10/dist-packages (from ipykernel>=4.5.1->ipywidgets>=7.5.1->great_expectations==0.14.12->hsfs[python]<3.1.0,>=3.0.0->hopsworks) (6.3.1)\n",
            "Requirement already satisfied: setuptools>=18.5 in /usr/local/lib/python3.10/dist-packages (from ipython>=4.0.0->ipywidgets>=7.5.1->great_expectations==0.14.12->hsfs[python]<3.1.0,>=3.0.0->hopsworks) (67.7.2)\n",
            "Collecting jedi>=0.16 (from ipython>=4.0.0->ipywidgets>=7.5.1->great_expectations==0.14.12->hsfs[python]<3.1.0,>=3.0.0->hopsworks)\n",
            "  Downloading jedi-0.18.2-py2.py3-none-any.whl (1.6 MB)\n",
            "\u001b[2K     \u001b[90m━━━━━━━━━━━━━━━━━━━━━━━━━━━━━━━━━━━━━━━━\u001b[0m \u001b[32m1.6/1.6 MB\u001b[0m \u001b[31m69.8 MB/s\u001b[0m eta \u001b[36m0:00:00\u001b[0m\n",
            "\u001b[?25hRequirement already satisfied: decorator in /usr/local/lib/python3.10/dist-packages (from ipython>=4.0.0->ipywidgets>=7.5.1->great_expectations==0.14.12->hsfs[python]<3.1.0,>=3.0.0->hopsworks) (4.4.2)\n",
            "Requirement already satisfied: pickleshare in /usr/local/lib/python3.10/dist-packages (from ipython>=4.0.0->ipywidgets>=7.5.1->great_expectations==0.14.12->hsfs[python]<3.1.0,>=3.0.0->hopsworks) (0.7.5)\n",
            "Requirement already satisfied: prompt-toolkit!=3.0.0,!=3.0.1,<3.1.0,>=2.0.0 in /usr/local/lib/python3.10/dist-packages (from ipython>=4.0.0->ipywidgets>=7.5.1->great_expectations==0.14.12->hsfs[python]<3.1.0,>=3.0.0->hopsworks) (3.0.38)\n",
            "Requirement already satisfied: pygments in /usr/local/lib/python3.10/dist-packages (from ipython>=4.0.0->ipywidgets>=7.5.1->great_expectations==0.14.12->hsfs[python]<3.1.0,>=3.0.0->hopsworks) (2.14.0)\n",
            "Requirement already satisfied: backcall in /usr/local/lib/python3.10/dist-packages (from ipython>=4.0.0->ipywidgets>=7.5.1->great_expectations==0.14.12->hsfs[python]<3.1.0,>=3.0.0->hopsworks) (0.2.0)\n",
            "Requirement already satisfied: matplotlib-inline in /usr/local/lib/python3.10/dist-packages (from ipython>=4.0.0->ipywidgets>=7.5.1->great_expectations==0.14.12->hsfs[python]<3.1.0,>=3.0.0->hopsworks) (0.1.6)\n",
            "Requirement already satisfied: pexpect>4.3 in /usr/local/lib/python3.10/dist-packages (from ipython>=4.0.0->ipywidgets>=7.5.1->great_expectations==0.14.12->hsfs[python]<3.1.0,>=3.0.0->hopsworks) (4.8.0)\n",
            "Requirement already satisfied: notebook>=4.4.1 in /usr/local/lib/python3.10/dist-packages (from widgetsnbextension~=3.6.0->ipywidgets>=7.5.1->great_expectations==0.14.12->hsfs[python]<3.1.0,>=3.0.0->hopsworks) (6.4.8)\n",
            "Requirement already satisfied: platformdirs>=2.5 in /usr/local/lib/python3.10/dist-packages (from jupyter-core->nbformat>=5.0->great_expectations==0.14.12->hsfs[python]<3.1.0,>=3.0.0->hopsworks) (3.3.0)\n",
            "Requirement already satisfied: tzdata in /usr/local/lib/python3.10/dist-packages (from pytz-deprecation-shim->tzlocal>=1.2->great_expectations==0.14.12->hsfs[python]<3.1.0,>=3.0.0->hopsworks) (2023.3)\n",
            "Requirement already satisfied: parso<0.9.0,>=0.8.0 in /usr/local/lib/python3.10/dist-packages (from jedi>=0.16->ipython>=4.0.0->ipywidgets>=7.5.1->great_expectations==0.14.12->hsfs[python]<3.1.0,>=3.0.0->hopsworks) (0.8.3)\n",
            "Requirement already satisfied: pyzmq>=17 in /usr/local/lib/python3.10/dist-packages (from notebook>=4.4.1->widgetsnbextension~=3.6.0->ipywidgets>=7.5.1->great_expectations==0.14.12->hsfs[python]<3.1.0,>=3.0.0->hopsworks) (23.2.1)\n",
            "Requirement already satisfied: argon2-cffi in /usr/local/lib/python3.10/dist-packages (from notebook>=4.4.1->widgetsnbextension~=3.6.0->ipywidgets>=7.5.1->great_expectations==0.14.12->hsfs[python]<3.1.0,>=3.0.0->hopsworks) (21.3.0)\n",
            "Requirement already satisfied: nbconvert in /usr/local/lib/python3.10/dist-packages (from notebook>=4.4.1->widgetsnbextension~=3.6.0->ipywidgets>=7.5.1->great_expectations==0.14.12->hsfs[python]<3.1.0,>=3.0.0->hopsworks) (6.5.4)\n",
            "Requirement already satisfied: nest-asyncio>=1.5 in /usr/local/lib/python3.10/dist-packages (from notebook>=4.4.1->widgetsnbextension~=3.6.0->ipywidgets>=7.5.1->great_expectations==0.14.12->hsfs[python]<3.1.0,>=3.0.0->hopsworks) (1.5.6)\n",
            "Requirement already satisfied: Send2Trash>=1.8.0 in /usr/local/lib/python3.10/dist-packages (from notebook>=4.4.1->widgetsnbextension~=3.6.0->ipywidgets>=7.5.1->great_expectations==0.14.12->hsfs[python]<3.1.0,>=3.0.0->hopsworks) (1.8.0)\n",
            "Requirement already satisfied: terminado>=0.8.3 in /usr/local/lib/python3.10/dist-packages (from notebook>=4.4.1->widgetsnbextension~=3.6.0->ipywidgets>=7.5.1->great_expectations==0.14.12->hsfs[python]<3.1.0,>=3.0.0->hopsworks) (0.17.1)\n",
            "Requirement already satisfied: prometheus-client in /usr/local/lib/python3.10/dist-packages (from notebook>=4.4.1->widgetsnbextension~=3.6.0->ipywidgets>=7.5.1->great_expectations==0.14.12->hsfs[python]<3.1.0,>=3.0.0->hopsworks) (0.16.0)\n",
            "Requirement already satisfied: ptyprocess>=0.5 in /usr/local/lib/python3.10/dist-packages (from pexpect>4.3->ipython>=4.0.0->ipywidgets>=7.5.1->great_expectations==0.14.12->hsfs[python]<3.1.0,>=3.0.0->hopsworks) (0.7.0)\n",
            "Requirement already satisfied: wcwidth in /usr/local/lib/python3.10/dist-packages (from prompt-toolkit!=3.0.0,!=3.0.1,<3.1.0,>=2.0.0->ipython>=4.0.0->ipywidgets>=7.5.1->great_expectations==0.14.12->hsfs[python]<3.1.0,>=3.0.0->hopsworks) (0.2.6)\n",
            "Requirement already satisfied: argon2-cffi-bindings in /usr/local/lib/python3.10/dist-packages (from argon2-cffi->notebook>=4.4.1->widgetsnbextension~=3.6.0->ipywidgets>=7.5.1->great_expectations==0.14.12->hsfs[python]<3.1.0,>=3.0.0->hopsworks) (21.2.0)\n",
            "Requirement already satisfied: lxml in /usr/local/lib/python3.10/dist-packages (from nbconvert->notebook>=4.4.1->widgetsnbextension~=3.6.0->ipywidgets>=7.5.1->great_expectations==0.14.12->hsfs[python]<3.1.0,>=3.0.0->hopsworks) (4.9.2)\n",
            "Requirement already satisfied: beautifulsoup4 in /usr/local/lib/python3.10/dist-packages (from nbconvert->notebook>=4.4.1->widgetsnbextension~=3.6.0->ipywidgets>=7.5.1->great_expectations==0.14.12->hsfs[python]<3.1.0,>=3.0.0->hopsworks) (4.11.2)\n",
            "Requirement already satisfied: bleach in /usr/local/lib/python3.10/dist-packages (from nbconvert->notebook>=4.4.1->widgetsnbextension~=3.6.0->ipywidgets>=7.5.1->great_expectations==0.14.12->hsfs[python]<3.1.0,>=3.0.0->hopsworks) (6.0.0)\n",
            "Requirement already satisfied: defusedxml in /usr/local/lib/python3.10/dist-packages (from nbconvert->notebook>=4.4.1->widgetsnbextension~=3.6.0->ipywidgets>=7.5.1->great_expectations==0.14.12->hsfs[python]<3.1.0,>=3.0.0->hopsworks) (0.7.1)\n",
            "Requirement already satisfied: jupyterlab-pygments in /usr/local/lib/python3.10/dist-packages (from nbconvert->notebook>=4.4.1->widgetsnbextension~=3.6.0->ipywidgets>=7.5.1->great_expectations==0.14.12->hsfs[python]<3.1.0,>=3.0.0->hopsworks) (0.2.2)\n",
            "Requirement already satisfied: nbclient>=0.5.0 in /usr/local/lib/python3.10/dist-packages (from nbconvert->notebook>=4.4.1->widgetsnbextension~=3.6.0->ipywidgets>=7.5.1->great_expectations==0.14.12->hsfs[python]<3.1.0,>=3.0.0->hopsworks) (0.7.4)\n",
            "Requirement already satisfied: pandocfilters>=1.4.1 in /usr/local/lib/python3.10/dist-packages (from nbconvert->notebook>=4.4.1->widgetsnbextension~=3.6.0->ipywidgets>=7.5.1->great_expectations==0.14.12->hsfs[python]<3.1.0,>=3.0.0->hopsworks) (1.5.0)\n",
            "Requirement already satisfied: tinycss2 in /usr/local/lib/python3.10/dist-packages (from nbconvert->notebook>=4.4.1->widgetsnbextension~=3.6.0->ipywidgets>=7.5.1->great_expectations==0.14.12->hsfs[python]<3.1.0,>=3.0.0->hopsworks) (1.2.1)\n",
            "Requirement already satisfied: soupsieve>1.2 in /usr/local/lib/python3.10/dist-packages (from beautifulsoup4->nbconvert->notebook>=4.4.1->widgetsnbextension~=3.6.0->ipywidgets>=7.5.1->great_expectations==0.14.12->hsfs[python]<3.1.0,>=3.0.0->hopsworks) (2.4.1)\n",
            "Requirement already satisfied: webencodings in /usr/local/lib/python3.10/dist-packages (from bleach->nbconvert->notebook>=4.4.1->widgetsnbextension~=3.6.0->ipywidgets>=7.5.1->great_expectations==0.14.12->hsfs[python]<3.1.0,>=3.0.0->hopsworks) (0.5.1)\n",
            "Building wheels for collected packages: hopsworks, avro, hsml, hsfs, twofish, thrift, pyhopshive\n",
            "  Building wheel for hopsworks (setup.py) ... \u001b[?25l\u001b[?25hdone\n",
            "  Created wheel for hopsworks: filename=hopsworks-3.0.5-py3-none-any.whl size=65375 sha256=01b12696985fc32561bd9ddf097809059515ec7512a133733f9bbcf9dde4ab07\n",
            "  Stored in directory: /root/.cache/pip/wheels/7c/0c/43/34ee6ac94cafae09cee878a41dd6507897efe2b41a5366394d\n",
            "  Building wheel for avro (setup.py) ... \u001b[?25l\u001b[?25hdone\n",
            "  Created wheel for avro: filename=avro-1.10.2-py3-none-any.whl size=96813 sha256=8942cc40a083dc24f57e0dc5ce5200dd89dd866029e629b5d0d3a051465a8974\n",
            "  Stored in directory: /root/.cache/pip/wheels/b2/5a/4a/276ba0459becb49519de75535ee50359241f351080a81fef2c\n",
            "  Building wheel for hsml (setup.py) ... \u001b[?25l\u001b[?25hdone\n",
            "  Created wheel for hsml: filename=hsml-3.0.3-py3-none-any.whl size=99248 sha256=35fa615b1a10f74032be39ac6f0712b0c0e267d5175d705fd1665d4ab3c63652\n",
            "  Stored in directory: /root/.cache/pip/wheels/f6/0f/49/cbe1844058aff993967a4928aeefeb22faa9fa26a560a8b1a3\n",
            "  Building wheel for hsfs (setup.py) ... \u001b[?25l\u001b[?25hdone\n",
            "  Created wheel for hsfs: filename=hsfs-3.0.7-py3-none-any.whl size=176220 sha256=bcbff37d574e2f810779ca67d25683555d2464d63c545a62da7b094de7f4274e\n",
            "  Stored in directory: /root/.cache/pip/wheels/3d/82/46/837d5c1d153b451f17e25a30cb5709f37f59f13f918228ab0f\n",
            "  Building wheel for twofish (setup.py) ... \u001b[?25l\u001b[?25hdone\n",
            "  Created wheel for twofish: filename=twofish-0.3.0-cp310-cp310-linux_x86_64.whl size=28937 sha256=70da79fa7f2bfc2658e590eded840c5f8f005e10229d747f6418c0be955e82c6\n",
            "  Stored in directory: /root/.cache/pip/wheels/a7/3c/27/c390be4f3e8a299d4b2836f8daa19697eb991eacbfabe25031\n",
            "  Building wheel for thrift (setup.py) ... \u001b[?25l\u001b[?25hdone\n",
            "  Created wheel for thrift: filename=thrift-0.16.0-cp310-cp310-linux_x86_64.whl size=399131 sha256=479adc73424c3cbe27182a1d1ae5d3f6d263efa0f6a6b9b06389e934cd7e0679\n",
            "  Stored in directory: /root/.cache/pip/wheels/52/f8/d2/acfd995e8247eb0cad372fa6a640a5fcf279ab2ed7c5c4490e\n",
            "  Building wheel for pyhopshive (setup.py) ... \u001b[?25l\u001b[?25hdone\n",
            "  Created wheel for pyhopshive: filename=PyHopsHive-0.6.4.1.dev0-py3-none-any.whl size=48570 sha256=5edda94dad9929e4622da36bbd711f6fd8c203c7926dcd92a631bf2f1e03baae\n",
            "  Stored in directory: /root/.cache/pip/wheels/2c/a5/da/3326e27d433d47029d233e314b993fdedb42b381650ea9dac7\n",
            "Successfully built hopsworks avro hsml hsfs twofish thrift pyhopshive\n",
            "Installing collected packages: twofish, pyhumps, javaobj-py3, confluent-kafka, thrift, ruamel.yaml, pyparsing, PyMySQL, pycryptodomex, orderedmultidict, mock, markupsafe, jsonpointer, jmespath, jedi, importlib-metadata, fastavro, colorama, avro, pyjks, jsonpatch, jinja2, furl, botocore, s3transfer, pyhopshive, boto3, hsml, great_expectations, hsfs, hopsworks\n",
            "  Attempting uninstall: pyparsing\n",
            "    Found existing installation: pyparsing 3.0.9\n",
            "    Uninstalling pyparsing-3.0.9:\n",
            "      Successfully uninstalled pyparsing-3.0.9\n",
            "  Attempting uninstall: markupsafe\n",
            "    Found existing installation: MarkupSafe 2.1.2\n",
            "    Uninstalling MarkupSafe-2.1.2:\n",
            "      Successfully uninstalled MarkupSafe-2.1.2\n",
            "  Attempting uninstall: jinja2\n",
            "    Found existing installation: Jinja2 3.1.2\n",
            "    Uninstalling Jinja2-3.1.2:\n",
            "      Successfully uninstalled Jinja2-3.1.2\n",
            "\u001b[31mERROR: pip's dependency resolver does not currently take into account all the packages that are installed. This behaviour is the source of the following dependency conflicts.\n",
            "werkzeug 2.3.0 requires MarkupSafe>=2.1.1, but you have markupsafe 2.0.1 which is incompatible.\u001b[0m\u001b[31m\n",
            "\u001b[0mSuccessfully installed PyMySQL-1.0.3 avro-1.10.2 boto3-1.26.142 botocore-1.29.142 colorama-0.4.6 confluent-kafka-1.9.0 fastavro-1.4.11 furl-2.1.3 great_expectations-0.14.12 hopsworks-3.0.5 hsfs-3.0.7 hsml-3.0.3 importlib-metadata-6.6.0 javaobj-py3-0.4.3 jedi-0.18.2 jinja2-3.0.3 jmespath-1.0.1 jsonpatch-1.32 jsonpointer-2.3 markupsafe-2.0.1 mock-5.0.2 orderedmultidict-1.0.1 pycryptodomex-3.18.0 pyhopshive-0.6.4.1.dev0 pyhumps-1.6.1 pyjks-20.0.0 pyparsing-2.4.7 ruamel.yaml-0.17.17 s3transfer-0.6.1 thrift-0.16.0 twofish-0.3.0\n"
          ]
        },
        {
          "output_type": "display_data",
          "data": {
            "application/vnd.colab-display-data+json": {
              "pip_warning": {
                "packages": [
                  "pyparsing"
                ]
              }
            }
          },
          "metadata": {}
        }
      ]
    },
    {
      "cell_type": "code",
      "execution_count": 1,
      "metadata": {
        "id": "q7-c6SKov_Qp"
      },
      "outputs": [],
      "source": [
        "import pandas as pd\n",
        "import numpy as np\n",
        "import hopsworks\n",
        "import os\n",
        "import requests\n",
        "import zipfile"
      ]
    },
    {
      "cell_type": "code",
      "source": [
        "# Hosted notebook environments may not have the local features package\n",
        "def need_download_modules():\n",
        "    if 'google.colab' in str(get_ipython()):\n",
        "        return True\n",
        "    if 'HOPSWORKS_PROJECT_ID' in os.environ:\n",
        "        return True\n",
        "    return False\n",
        "\n",
        "if need_download_modules():\n",
        "    print(\"Downloading modules\")\n",
        "    os.system('sudo apt-get install unzip')\n",
        "    os.system('mkdir -p features')\n",
        "    os.system('cd features && wget https://raw.githubusercontent.com/Prithivee7/voter_categorical_binning/main/features/voters.py')\n",
        "else:\n",
        "    print(\"Local environment\")"
      ],
      "metadata": {
        "colab": {
          "base_uri": "https://localhost:8080/"
        },
        "id": "UVVhMt1FwBhh",
        "outputId": "99ab5537-0b44-4197-d627-401fed5c260e"
      },
      "execution_count": 2,
      "outputs": [
        {
          "output_type": "stream",
          "name": "stdout",
          "text": [
            "Downloading modules\n"
          ]
        }
      ]
    },
    {
      "cell_type": "code",
      "source": [
        "from features import voters"
      ],
      "metadata": {
        "id": "gs4ehdHxWYwD"
      },
      "execution_count": 3,
      "outputs": []
    },
    {
      "cell_type": "code",
      "source": [
        "# Login to hopsworks\n",
        "hopsworks_project = hopsworks.login()\n",
        "fs = hopsworks_project.get_feature_store()"
      ],
      "metadata": {
        "colab": {
          "base_uri": "https://localhost:8080/"
        },
        "id": "5YLOXeoaxdHf",
        "outputId": "5f0ad833-e89b-48ab-a58e-8dd07422ffbe"
      },
      "execution_count": 4,
      "outputs": [
        {
          "output_type": "stream",
          "name": "stdout",
          "text": [
            "Connected. Call `.close()` to terminate connection gracefully.\n",
            "\n",
            "Logged in to project, explore it here https://c.app.hopsworks.ai:443/p/44182\n",
            "Connected. Call `.close()` to terminate connection gracefully.\n"
          ]
        }
      ]
    },
    {
      "cell_type": "code",
      "source": [
        "# This function accepts the Registered Voter Stats file by Election Date link as parameter and outputs the data as a dataframe\n",
        "def get_voter_details_df(voter_stats_link):\n",
        "\n",
        "  # Downloading the zip file\n",
        "  path_to_zip_file = \"voter_dataset.zip\"\n",
        "  response = requests.get(voter_stats_link, stream=True)\n",
        "  with open(path_to_zip_file, \"wb\") as f:\n",
        "      for chunk in response.iter_content(chunk_size=512):\n",
        "          if chunk:  # filter out keep-alive new chunks\n",
        "              f.write(chunk)\n",
        "\n",
        "  # Extracting the data in the zip file      \n",
        "  with zipfile.ZipFile(path_to_zip_file, 'r') as zip_ref:\n",
        "    zip_ref.extractall(\"my_data\")\n",
        "  \n",
        "  # Reading the dataframe\n",
        "  file_name = os.listdir(\"my_data\")[0]\n",
        "  file_path = f\"my_data/{file_name}\"\n",
        "  voters_df = pd.read_csv(file_path,delimiter=r\"\\t+\")\n",
        "  \n",
        "  # Performing cleanup operation\n",
        "  os.remove(path_to_zip_file)\n",
        "  os.remove(file_path)\n",
        "  os.rmdir(\"my_data\")\n",
        "  return voters_df"
      ],
      "metadata": {
        "id": "JofBMxkxQ-6p"
      },
      "execution_count": 5,
      "outputs": []
    },
    {
      "cell_type": "code",
      "source": [
        "# This function takes in the voters dataframe and gives back the features \n",
        "def get_final_dataframe(df):\n",
        "    df['Political Party'] = df['party_cd'].apply(voters.perform_binning_political_parties)\n",
        "    df['County ID'] = df['county_desc'].apply(voters.get_county_id)\n",
        "    df['Race'] = df['race_code'].apply(voters.perform_binning_races)\n",
        "    df['Age Bracket'] = df['age'].apply(voters.get_age_bracket)\n",
        "    df['Sex'] = df['sex_code'].apply(voters.perform_binning_sex)\n",
        "    df['Ethnicity'] = df['ethnic_code'].apply(voters.perform_binning_ethnicity)\n",
        "    df = df[['Political Party', \"County ID\", \"Race\",\n",
        "            \"Age Bracket\", \"Sex\", \"Ethnicity\", \"total_voters\"]]\n",
        "    return df"
      ],
      "metadata": {
        "id": "3ARYbAFoQQsG"
      },
      "execution_count": 6,
      "outputs": []
    },
    {
      "cell_type": "code",
      "source": [
        "def perform_aggregation(df):\n",
        "    agg_df = df.groupby([\n",
        "      'Political Party', 'Race',\n",
        "      'Age Bracket', 'Sex',\"Ethnicity\",\"County ID\"]).agg(\n",
        "      Voter_Count=('total_voters', np.size)\n",
        "  ).reset_index()\n",
        "    agg_df['p_key'] = [i for i in range(1,len(agg_df)+1)]\n",
        "    return agg_df "
      ],
      "metadata": {
        "id": "_mvI951oRvSj"
      },
      "execution_count": 7,
      "outputs": []
    },
    {
      "cell_type": "code",
      "source": [
        "def update_column_names(df):\n",
        "    df.columns = ['political_party', 'race', 'age_bracket', 'sex', 'ethnicity',\n",
        "       'county_id', 'voter_count', 'p_key']\n",
        "    return df"
      ],
      "metadata": {
        "id": "uOJmhgM0UAX2"
      },
      "execution_count": 8,
      "outputs": []
    },
    {
      "cell_type": "code",
      "source": [
        "def main(voter_stats_link):\n",
        "    voters_df = get_voter_details_df(voter_stats_link)\n",
        "    features_df = get_final_dataframe(voters_df)\n",
        "    agg_df = perform_aggregation(features_df)\n",
        "    agg_df = update_column_names(agg_df)\n"
      ],
      "metadata": {
        "id": "CfJxDYkGabha"
      },
      "execution_count": null,
      "outputs": []
    },
    {
      "cell_type": "code",
      "source": [
        "# Provide the path of the zip file based on the election data required\n",
        "# The data can be found here -> https://www.ncsbe.gov/results-data/voter-registration-data\n",
        "# The description can be found here -> https://s3.amazonaws.com/dl.ncsbe.gov/ENRS/layout_voter_stats.txt\n",
        "# The county_name and county_id can be found here -> https://s3.amazonaws.com/dl.ncsbe.gov/data/layout_ncvoter.txt\n",
        "\n",
        "voter_stats_link = \"https://s3.amazonaws.com/dl.ncsbe.gov/ENRS/2022_12_06/voter_stats_20221206.zip\"\n",
        "\n",
        "agg_df = main(voter_stats_link)"
      ],
      "metadata": {
        "id": "WGsTKmeRl6sS",
        "colab": {
          "base_uri": "https://localhost:8080/"
        },
        "outputId": "06d1ee5f-cc06-4d99-8773-b2f7e95a20f1"
      },
      "execution_count": 9,
      "outputs": [
        {
          "output_type": "stream",
          "name": "stderr",
          "text": [
            "ParserWarning: Falling back to the 'python' engine because the 'c' engine does not support regex separators (separators > 1 char and different from '\\s+' are interpreted as regex); you can avoid this warning by specifying engine='python'.\n"
          ]
        }
      ]
    },
    {
      "cell_type": "markdown",
      "source": [
        "### Creating and Inserting records to the Feature Group"
      ],
      "metadata": {
        "id": "FwuawtPLantV"
      }
    },
    {
      "cell_type": "code",
      "source": [
        "# Create a feature group\n",
        "# Provide a name, description and the primary key column\n",
        "voters_fg = fs.get_or_create_feature_group(\n",
        "    name=\"voters\",\n",
        "    version=1,\n",
        "    description=\"Voter data with categorical variables and aggregation\",\n",
        "    primary_key=['p_key'],\n",
        "    online_enabled=True\n",
        ")"
      ],
      "metadata": {
        "id": "lYu_2-QMTgjD"
      },
      "execution_count": 12,
      "outputs": []
    },
    {
      "cell_type": "code",
      "source": [
        "# Insert the dataframe to the recently created feature store\n",
        "voters_fg.insert(agg_df)"
      ],
      "metadata": {
        "colab": {
          "base_uri": "https://localhost:8080/",
          "height": 153,
          "referenced_widgets": [
            "faa9550b4894457cb396bceb820e2898",
            "63f21508fb8b4e22bce2b1d80395f350",
            "e4f30f41552542d99aecd46503cdf8c1",
            "f6e40763a5884931830b96ec612a00ca",
            "c4cab3f86bce46ffb8dcba882d55ee05",
            "ab6b32ac58e64d2caf2a0d07a7209beb",
            "69ed9e94e1904c36b2212cbffcd030cb",
            "dcdd42101cdc4ab4beb33842baef044f",
            "e6fc265fed4b4d44a62a8cd803a2f5df",
            "3edbb4ccb8f448aaa2e84f31feca4396",
            "65c548823aac4dad97882a4d136df945"
          ]
        },
        "id": "UyuAAQc_Thxg",
        "outputId": "3ab3f4e3-4e88-4bee-858f-96c4773aa6eb"
      },
      "execution_count": 13,
      "outputs": [
        {
          "output_type": "stream",
          "name": "stdout",
          "text": [
            "Feature Group created successfully, explore it at \n",
            "https://c.app.hopsworks.ai:443/p/44182/fs/44101/fg/52912\n"
          ]
        },
        {
          "output_type": "display_data",
          "data": {
            "text/plain": [
              "Uploading Dataframe: 0.00% |          | Rows 0/20713 | Elapsed Time: 00:00 | Remaining Time: ?"
            ],
            "application/vnd.jupyter.widget-view+json": {
              "version_major": 2,
              "version_minor": 0,
              "model_id": "faa9550b4894457cb396bceb820e2898"
            }
          },
          "metadata": {}
        },
        {
          "output_type": "stream",
          "name": "stdout",
          "text": [
            "Launching offline feature group backfill job...\n",
            "Backfill Job started successfully, you can follow the progress at \n",
            "https://c.app.hopsworks.ai/p/44182/jobs/named/voters_1_offline_fg_backfill/executions\n"
          ]
        },
        {
          "output_type": "execute_result",
          "data": {
            "text/plain": [
              "(<hsfs.core.job.Job at 0x7f080461bd60>, None)"
            ]
          },
          "metadata": {},
          "execution_count": 13
        }
      ]
    },
    {
      "cell_type": "code",
      "source": [
        "# Updating the Feature Descriptions\n",
        "\n",
        "feature_descriptions = [\n",
        "    {\"name\": \"political_party\", \"description\": \"It bins the political party into the Democratic, Republic and Others\"},\n",
        "    {\"name\": \"race\", \"description\": \"Contains information about the Race of the voter\"},\n",
        "    {\"name\": \"age_bracket\", \"description\": \"Contains information about the age bracket to which the voter belongs\"},\n",
        "    {\"name\": \"sex\", \"description\": \"Contains information regarding the sex of the voter\"},\n",
        "    {\"name\": \"ethnicity\", \"description\": \"Contains information about the ethnicity of the voter\"},\n",
        "    {\"name\": \"county_id\", \"description\": \"Contains information about the county id of the voter\"},\n",
        "    {\"name\": \"voter_count\", \"description\": \"Contains information regarding the number of voters\"},\n",
        "    {\"name\": \"p_key\", \"description\": \"This feature is used as a primary key\"},    \n",
        "]\n",
        "\n",
        "for desciption in feature_descriptions: \n",
        "    voters_fg.update_feature_description(desciption[\"name\"], desciption[\"description\"])"
      ],
      "metadata": {
        "id": "QEcmSix4ZjH_"
      },
      "execution_count": 17,
      "outputs": []
    }
  ]
}